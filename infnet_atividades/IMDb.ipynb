{
 "cells": [
  {
   "cell_type": "markdown",
   "id": "81da45c8-98df-41cd-a92d-55f2ca19d38c",
   "metadata": {
    "tags": []
   },
   "source": [
    "# Analisar dados de filmes - IMDb #\n",
    "## Objetivo - Realizar uma análise (básica) dos dados de filmes catalogados na base de dados do IMDb. \n",
    " \n",
    "  ###  Será analisado somente \"Movies\" (Dica: use como filtro)    \n",
    "___ \n",
    "    \n",
    "###       Algumas observações \n",
    " \n",
    "####       A tabela ratings informa: \n",
    "       \n",
    "####       averageRating – weighted average of all the individual user ratings\n",
    "####       numVotes - number of votes the title has received\n",
    "       \n",
    "####       Como comparar  \n",
    "####                      Filme A -> 9 votos e classificação média = 8.5 \n",
    "####                      Filme B -> 100 votos e classificação média = 7.4 "
   ]
  },
  {
   "cell_type": "markdown",
   "id": "a2763e47-6114-4018-a479-b0e62a1fdfdd",
   "metadata": {
    "tags": []
   },
   "source": [
    "Download da base de dados do kaggle"
   ]
  },
  {
   "cell_type": "code",
   "execution_count": 1,
   "id": "cd722839-c033-4838-b0c5-445f9b172192",
   "metadata": {},
   "outputs": [
    {
     "name": "stdout",
     "output_type": "stream",
     "text": [
      "Requirement already satisfied: kaggle in c:\\users\\leila\\anaconda3\\lib\\site-packages (1.5.12)\n",
      "Requirement already satisfied: six>=1.10 in c:\\users\\leila\\anaconda3\\lib\\site-packages (from kaggle) (1.15.0)\n",
      "Requirement already satisfied: tqdm in c:\\users\\leila\\anaconda3\\lib\\site-packages (from kaggle) (4.59.0)\n",
      "Requirement already satisfied: python-dateutil in c:\\users\\leila\\anaconda3\\lib\\site-packages (from kaggle) (2.8.1)\n",
      "Requirement already satisfied: urllib3 in c:\\users\\leila\\anaconda3\\lib\\site-packages (from kaggle) (1.26.4)\n",
      "Requirement already satisfied: requests in c:\\users\\leila\\anaconda3\\lib\\site-packages (from kaggle) (2.25.1)\n",
      "Requirement already satisfied: python-slugify in c:\\users\\leila\\anaconda3\\lib\\site-packages (from kaggle) (5.0.2)\n",
      "Requirement already satisfied: certifi in c:\\users\\leila\\anaconda3\\lib\\site-packages (from kaggle) (2020.12.5)\n",
      "Requirement already satisfied: text-unidecode>=1.3 in c:\\users\\leila\\anaconda3\\lib\\site-packages (from python-slugify->kaggle) (1.3)\n",
      "Requirement already satisfied: idna<3,>=2.5 in c:\\users\\leila\\anaconda3\\lib\\site-packages (from requests->kaggle) (2.10)\n",
      "Requirement already satisfied: chardet<5,>=3.0.2 in c:\\users\\leila\\anaconda3\\lib\\site-packages (from requests->kaggle) (4.0.0)\n",
      "Requirement already satisfied: opendatasets in c:\\users\\leila\\anaconda3\\lib\\site-packages (0.1.20)\n",
      "Requirement already satisfied: click in c:\\users\\leila\\anaconda3\\lib\\site-packages (from opendatasets) (7.1.2)\n",
      "Requirement already satisfied: kaggle in c:\\users\\leila\\anaconda3\\lib\\site-packages (from opendatasets) (1.5.12)\n",
      "Requirement already satisfied: tqdm in c:\\users\\leila\\anaconda3\\lib\\site-packages (from opendatasets) (4.59.0)\n",
      "Requirement already satisfied: urllib3 in c:\\users\\leila\\anaconda3\\lib\\site-packages (from kaggle->opendatasets) (1.26.4)\n",
      "Requirement already satisfied: six>=1.10 in c:\\users\\leila\\anaconda3\\lib\\site-packages (from kaggle->opendatasets) (1.15.0)\n",
      "Requirement already satisfied: certifi in c:\\users\\leila\\anaconda3\\lib\\site-packages (from kaggle->opendatasets) (2020.12.5)\n",
      "Requirement already satisfied: python-slugify in c:\\users\\leila\\anaconda3\\lib\\site-packages (from kaggle->opendatasets) (5.0.2)\n",
      "Requirement already satisfied: python-dateutil in c:\\users\\leila\\anaconda3\\lib\\site-packages (from kaggle->opendatasets) (2.8.1)\n",
      "Requirement already satisfied: requests in c:\\users\\leila\\anaconda3\\lib\\site-packages (from kaggle->opendatasets) (2.25.1)\n",
      "Requirement already satisfied: text-unidecode>=1.3 in c:\\users\\leila\\anaconda3\\lib\\site-packages (from python-slugify->kaggle->opendatasets) (1.3)\n",
      "Requirement already satisfied: idna<3,>=2.5 in c:\\users\\leila\\anaconda3\\lib\\site-packages (from requests->kaggle->opendatasets) (2.10)\n",
      "Requirement already satisfied: chardet<5,>=3.0.2 in c:\\users\\leila\\anaconda3\\lib\\site-packages (from requests->kaggle->opendatasets) (4.0.0)\n"
     ]
    }
   ],
   "source": [
    "#!pip install kaggle\n",
    "#!pip install opendatasets"
   ]
  },
  {
   "cell_type": "code",
   "execution_count": 2,
   "id": "965321b9-54d7-4884-8bce-c975e301e64e",
   "metadata": {},
   "outputs": [],
   "source": [
    "import kaggle\n",
    "import opendatasets as od"
   ]
  },
  {
   "cell_type": "code",
   "execution_count": 3,
   "id": "a7361412-8421-417e-89b2-2cceda590f07",
   "metadata": {},
   "outputs": [
    {
     "name": "stdout",
     "output_type": "stream",
     "text": [
      "Please provide your Kaggle credentials to download this dataset. Learn more: http://bit.ly/kaggle-creds\n",
      "Your Kaggle username: "
     ]
    },
    {
     "name": "stdin",
     "output_type": "stream",
     "text": [
      " leilafabiolaferreira\n"
     ]
    },
    {
     "name": "stdout",
     "output_type": "stream",
     "text": [
      "Your Kaggle Key: "
     ]
    },
    {
     "name": "stdin",
     "output_type": "stream",
     "text": [
      " ································\n"
     ]
    },
    {
     "name": "stderr",
     "output_type": "stream",
     "text": [
      "  0%|          | 0.00/82.3M [00:00<?, ?B/s]"
     ]
    },
    {
     "name": "stdout",
     "output_type": "stream",
     "text": [
      "Downloading imdb-extensive-dataset.zip to .\\imdb-extensive-dataset\n"
     ]
    },
    {
     "name": "stderr",
     "output_type": "stream",
     "text": [
      "100%|██████████| 82.3M/82.3M [00:04<00:00, 20.1MB/s]\n"
     ]
    },
    {
     "name": "stdout",
     "output_type": "stream",
     "text": [
      "\n"
     ]
    }
   ],
   "source": [
    "od.download (\"https://www.kaggle.com/stefanoleone992/imdb-extensive-dataset\")"
   ]
  },
  {
   "cell_type": "markdown",
   "id": "4b32dd4d-a21a-4580-a399-c030127c28ec",
   "metadata": {
    "tags": []
   },
   "source": [
    "Importando bibliotecas a serem utilizadas"
   ]
  },
  {
   "cell_type": "code",
   "execution_count": 4,
   "id": "a5399368-345f-4107-a88a-2ddd3dfd69d9",
   "metadata": {},
   "outputs": [],
   "source": [
    "import pandas as pd\n",
    "import numpy as np\n",
    "import matplotlib.pyplot as plt"
   ]
  },
  {
   "cell_type": "markdown",
   "id": "0ddfc063-c055-439a-881c-63a812e0597b",
   "metadata": {},
   "source": [
    "Carregando os dados "
   ]
  },
  {
   "cell_type": "code",
   "execution_count": 6,
   "id": "4d2e93b9-f3fc-415a-a54b-5bc4c5360d9c",
   "metadata": {},
   "outputs": [
    {
     "name": "stderr",
     "output_type": "stream",
     "text": [
      "C:\\Users\\leila\\anaconda3\\lib\\site-packages\\IPython\\core\\interactiveshell.py:3165: DtypeWarning: Columns (3) have mixed types.Specify dtype option on import or set low_memory=False.\n",
      "  has_raised = await self.run_ast_nodes(code_ast.body, cell_name,\n"
     ]
    }
   ],
   "source": [
    "df = pd.read_csv('IMDb movies.csv')"
   ]
  },
  {
   "cell_type": "code",
   "execution_count": 7,
   "id": "b8aeb8d1-6d37-4faa-9d06-4c373a804a89",
   "metadata": {},
   "outputs": [
    {
     "name": "stdout",
     "output_type": "stream",
     "text": [
      "<class 'pandas.core.frame.DataFrame'>\n",
      "RangeIndex: 85855 entries, 0 to 85854\n",
      "Data columns (total 22 columns):\n",
      " #   Column                 Non-Null Count  Dtype  \n",
      "---  ------                 --------------  -----  \n",
      " 0   imdb_title_id          85855 non-null  object \n",
      " 1   title                  85855 non-null  object \n",
      " 2   original_title         85855 non-null  object \n",
      " 3   year                   85855 non-null  object \n",
      " 4   date_published         85855 non-null  object \n",
      " 5   genre                  85855 non-null  object \n",
      " 6   duration               85855 non-null  int64  \n",
      " 7   country                85791 non-null  object \n",
      " 8   language               85022 non-null  object \n",
      " 9   director               85768 non-null  object \n",
      " 10  writer                 84283 non-null  object \n",
      " 11  production_company     81400 non-null  object \n",
      " 12  actors                 85786 non-null  object \n",
      " 13  description            83740 non-null  object \n",
      " 14  avg_vote               85855 non-null  float64\n",
      " 15  votes                  85855 non-null  int64  \n",
      " 16  budget                 23710 non-null  object \n",
      " 17  usa_gross_income       15326 non-null  object \n",
      " 18  worlwide_gross_income  31016 non-null  object \n",
      " 19  metascore              13305 non-null  float64\n",
      " 20  reviews_from_users     78258 non-null  float64\n",
      " 21  reviews_from_critics   74058 non-null  float64\n",
      "dtypes: float64(4), int64(2), object(16)\n",
      "memory usage: 14.4+ MB\n"
     ]
    }
   ],
   "source": [
    "df.info()"
   ]
  },
  {
   "cell_type": "code",
   "execution_count": 8,
   "id": "a8a5b8d3-88de-4266-a999-249677e47a40",
   "metadata": {},
   "outputs": [
    {
     "data": {
      "text/html": [
       "<div>\n",
       "<style scoped>\n",
       "    .dataframe tbody tr th:only-of-type {\n",
       "        vertical-align: middle;\n",
       "    }\n",
       "\n",
       "    .dataframe tbody tr th {\n",
       "        vertical-align: top;\n",
       "    }\n",
       "\n",
       "    .dataframe thead th {\n",
       "        text-align: right;\n",
       "    }\n",
       "</style>\n",
       "<table border=\"1\" class=\"dataframe\">\n",
       "  <thead>\n",
       "    <tr style=\"text-align: right;\">\n",
       "      <th></th>\n",
       "      <th>imdb_title_id</th>\n",
       "      <th>title</th>\n",
       "      <th>original_title</th>\n",
       "      <th>year</th>\n",
       "      <th>date_published</th>\n",
       "      <th>genre</th>\n",
       "      <th>duration</th>\n",
       "      <th>country</th>\n",
       "      <th>language</th>\n",
       "      <th>director</th>\n",
       "      <th>...</th>\n",
       "      <th>actors</th>\n",
       "      <th>description</th>\n",
       "      <th>avg_vote</th>\n",
       "      <th>votes</th>\n",
       "      <th>budget</th>\n",
       "      <th>usa_gross_income</th>\n",
       "      <th>worlwide_gross_income</th>\n",
       "      <th>metascore</th>\n",
       "      <th>reviews_from_users</th>\n",
       "      <th>reviews_from_critics</th>\n",
       "    </tr>\n",
       "  </thead>\n",
       "  <tbody>\n",
       "    <tr>\n",
       "      <th>0</th>\n",
       "      <td>tt0000009</td>\n",
       "      <td>Miss Jerry</td>\n",
       "      <td>Miss Jerry</td>\n",
       "      <td>1894</td>\n",
       "      <td>1894-10-09</td>\n",
       "      <td>Romance</td>\n",
       "      <td>45</td>\n",
       "      <td>USA</td>\n",
       "      <td>None</td>\n",
       "      <td>Alexander Black</td>\n",
       "      <td>...</td>\n",
       "      <td>Blanche Bayliss, William Courtenay, Chauncey D...</td>\n",
       "      <td>The adventures of a female reporter in the 1890s.</td>\n",
       "      <td>5.9</td>\n",
       "      <td>154</td>\n",
       "      <td>NaN</td>\n",
       "      <td>NaN</td>\n",
       "      <td>NaN</td>\n",
       "      <td>NaN</td>\n",
       "      <td>1.0</td>\n",
       "      <td>2.0</td>\n",
       "    </tr>\n",
       "    <tr>\n",
       "      <th>1</th>\n",
       "      <td>tt0000574</td>\n",
       "      <td>The Story of the Kelly Gang</td>\n",
       "      <td>The Story of the Kelly Gang</td>\n",
       "      <td>1906</td>\n",
       "      <td>1906-12-26</td>\n",
       "      <td>Biography, Crime, Drama</td>\n",
       "      <td>70</td>\n",
       "      <td>Australia</td>\n",
       "      <td>None</td>\n",
       "      <td>Charles Tait</td>\n",
       "      <td>...</td>\n",
       "      <td>Elizabeth Tait, John Tait, Norman Campbell, Be...</td>\n",
       "      <td>True story of notorious Australian outlaw Ned ...</td>\n",
       "      <td>6.1</td>\n",
       "      <td>589</td>\n",
       "      <td>$ 2250</td>\n",
       "      <td>NaN</td>\n",
       "      <td>NaN</td>\n",
       "      <td>NaN</td>\n",
       "      <td>7.0</td>\n",
       "      <td>7.0</td>\n",
       "    </tr>\n",
       "    <tr>\n",
       "      <th>2</th>\n",
       "      <td>tt0001892</td>\n",
       "      <td>Den sorte drøm</td>\n",
       "      <td>Den sorte drøm</td>\n",
       "      <td>1911</td>\n",
       "      <td>1911-08-19</td>\n",
       "      <td>Drama</td>\n",
       "      <td>53</td>\n",
       "      <td>Germany, Denmark</td>\n",
       "      <td>NaN</td>\n",
       "      <td>Urban Gad</td>\n",
       "      <td>...</td>\n",
       "      <td>Asta Nielsen, Valdemar Psilander, Gunnar Helse...</td>\n",
       "      <td>Two men of high rank are both wooing the beaut...</td>\n",
       "      <td>5.8</td>\n",
       "      <td>188</td>\n",
       "      <td>NaN</td>\n",
       "      <td>NaN</td>\n",
       "      <td>NaN</td>\n",
       "      <td>NaN</td>\n",
       "      <td>5.0</td>\n",
       "      <td>2.0</td>\n",
       "    </tr>\n",
       "  </tbody>\n",
       "</table>\n",
       "<p>3 rows × 22 columns</p>\n",
       "</div>"
      ],
      "text/plain": [
       "  imdb_title_id                        title               original_title  \\\n",
       "0     tt0000009                   Miss Jerry                   Miss Jerry   \n",
       "1     tt0000574  The Story of the Kelly Gang  The Story of the Kelly Gang   \n",
       "2     tt0001892               Den sorte drøm               Den sorte drøm   \n",
       "\n",
       "   year date_published                    genre  duration           country  \\\n",
       "0  1894     1894-10-09                  Romance        45               USA   \n",
       "1  1906     1906-12-26  Biography, Crime, Drama        70         Australia   \n",
       "2  1911     1911-08-19                    Drama        53  Germany, Denmark   \n",
       "\n",
       "  language         director  ...  \\\n",
       "0     None  Alexander Black  ...   \n",
       "1     None     Charles Tait  ...   \n",
       "2      NaN        Urban Gad  ...   \n",
       "\n",
       "                                              actors  \\\n",
       "0  Blanche Bayliss, William Courtenay, Chauncey D...   \n",
       "1  Elizabeth Tait, John Tait, Norman Campbell, Be...   \n",
       "2  Asta Nielsen, Valdemar Psilander, Gunnar Helse...   \n",
       "\n",
       "                                         description avg_vote votes  budget  \\\n",
       "0  The adventures of a female reporter in the 1890s.      5.9   154     NaN   \n",
       "1  True story of notorious Australian outlaw Ned ...      6.1   589  $ 2250   \n",
       "2  Two men of high rank are both wooing the beaut...      5.8   188     NaN   \n",
       "\n",
       "   usa_gross_income worlwide_gross_income metascore reviews_from_users  \\\n",
       "0               NaN                   NaN       NaN                1.0   \n",
       "1               NaN                   NaN       NaN                7.0   \n",
       "2               NaN                   NaN       NaN                5.0   \n",
       "\n",
       "   reviews_from_critics  \n",
       "0                   2.0  \n",
       "1                   7.0  \n",
       "2                   2.0  \n",
       "\n",
       "[3 rows x 22 columns]"
      ]
     },
     "execution_count": 8,
     "metadata": {},
     "output_type": "execute_result"
    }
   ],
   "source": [
    "df.head(3)"
   ]
  },
  {
   "cell_type": "code",
   "execution_count": 9,
   "id": "e6cb1888-54e4-4abe-8a75-31366dbf988f",
   "metadata": {},
   "outputs": [
    {
     "data": {
      "text/html": [
       "<div>\n",
       "<style scoped>\n",
       "    .dataframe tbody tr th:only-of-type {\n",
       "        vertical-align: middle;\n",
       "    }\n",
       "\n",
       "    .dataframe tbody tr th {\n",
       "        vertical-align: top;\n",
       "    }\n",
       "\n",
       "    .dataframe thead th {\n",
       "        text-align: right;\n",
       "    }\n",
       "</style>\n",
       "<table border=\"1\" class=\"dataframe\">\n",
       "  <thead>\n",
       "    <tr style=\"text-align: right;\">\n",
       "      <th></th>\n",
       "      <th>imdb_title_id</th>\n",
       "      <th>title</th>\n",
       "      <th>original_title</th>\n",
       "      <th>year</th>\n",
       "      <th>date_published</th>\n",
       "      <th>genre</th>\n",
       "      <th>duration</th>\n",
       "      <th>country</th>\n",
       "      <th>language</th>\n",
       "      <th>director</th>\n",
       "      <th>...</th>\n",
       "      <th>actors</th>\n",
       "      <th>description</th>\n",
       "      <th>avg_vote</th>\n",
       "      <th>votes</th>\n",
       "      <th>budget</th>\n",
       "      <th>usa_gross_income</th>\n",
       "      <th>worlwide_gross_income</th>\n",
       "      <th>metascore</th>\n",
       "      <th>reviews_from_users</th>\n",
       "      <th>reviews_from_critics</th>\n",
       "    </tr>\n",
       "  </thead>\n",
       "  <tbody>\n",
       "  </tbody>\n",
       "</table>\n",
       "<p>0 rows × 22 columns</p>\n",
       "</div>"
      ],
      "text/plain": [
       "Empty DataFrame\n",
       "Columns: [imdb_title_id, title, original_title, year, date_published, genre, duration, country, language, director, writer, production_company, actors, description, avg_vote, votes, budget, usa_gross_income, worlwide_gross_income, metascore, reviews_from_users, reviews_from_critics]\n",
       "Index: []\n",
       "\n",
       "[0 rows x 22 columns]"
      ]
     },
     "execution_count": 9,
     "metadata": {},
     "output_type": "execute_result"
    }
   ],
   "source": [
    "df[df.duplicated()] #verificando duplicidades"
   ]
  },
  {
   "cell_type": "markdown",
   "id": "29b79f1f-8f3d-4966-8790-75f579e8e805",
   "metadata": {},
   "source": [
    "Para verificar os maiores ratings a partir do ano 2000, é necessário tratar os dados da coluna year. Tentando manipular essa coluna sem tratamento, verifica-se que possui uma string na linha 83917:\n",
    "\n",
    "*ValueError: Unable to parse string \"TV Movie 2019\" at position 83917"
   ]
  },
  {
   "cell_type": "code",
   "execution_count": 10,
   "id": "fadccbe0-066c-44d1-a47b-faae87bab247",
   "metadata": {
    "tags": []
   },
   "outputs": [],
   "source": [
    "df.drop(df.loc[df['year']==\"TV Movie 2019\"].index, inplace=True) \n",
    "#dropando a linha com a string \"TV Movie 2019\""
   ]
  },
  {
   "cell_type": "code",
   "execution_count": 11,
   "id": "c9ad9f9e-9a92-4611-a8f8-938d6503c244",
   "metadata": {
    "tags": []
   },
   "outputs": [],
   "source": [
    "df['year'] = df['year'].astype('int64') \n",
    "#type casting object->int64"
   ]
  },
  {
   "cell_type": "code",
   "execution_count": 12,
   "id": "99418dd6-82ee-4bda-b6a4-c0eed73361cc",
   "metadata": {},
   "outputs": [],
   "source": [
    "df.drop(['country', 'language', 'writer', 'production_company', 'description','budget', 'usa_gross_income', 'worlwide_gross_income', 'metascore',\n",
    "       'reviews_from_users', 'reviews_from_critics'], axis='columns', inplace=True) #dropando colunas que não serão utilizadas nas análises"
   ]
  },
  {
   "cell_type": "code",
   "execution_count": 13,
   "id": "f5821152-f401-44a6-a0e4-1ded74d99b68",
   "metadata": {},
   "outputs": [
    {
     "data": {
      "text/plain": [
       "Index(['imdb_title_id', 'title', 'original_title', 'year', 'date_published',\n",
       "       'genre', 'duration', 'director', 'actors', 'avg_vote', 'votes'],\n",
       "      dtype='object')"
      ]
     },
     "execution_count": 13,
     "metadata": {},
     "output_type": "execute_result"
    }
   ],
   "source": [
    "df.columns"
   ]
  },
  {
   "cell_type": "markdown",
   "id": "38bfd959-67bf-4fc0-80b5-9f9ba8203e8f",
   "metadata": {},
   "source": [
    "#### \t1.1 ) Quais os filmes com maiores ratings a partir do ano 2000 - salvar em um csv os  1000 mais bem “rankeados”."
   ]
  },
  {
   "cell_type": "code",
   "execution_count": 14,
   "id": "33e66dac-b001-40ae-bb5e-e9be3769e1c0",
   "metadata": {},
   "outputs": [],
   "source": [
    "#selecionando filmes a partir de 2000\n",
    "df = df[df['year'] >= 2000] \n",
    " #ordenando pelo avg_vote\n",
    "df = df.sort_values(by='avg_vote', ascending = False)"
   ]
  },
  {
   "cell_type": "code",
   "execution_count": 15,
   "id": "47e0a1c9-c37d-4308-8ff3-79fea7d77d18",
   "metadata": {
    "tags": []
   },
   "outputs": [],
   "source": [
    "#selecionando os 1000 filmes mais bem rankeados\n",
    "df = df.iloc[0:1000,0:]\n",
    "#resetando o índice\n",
    "df.reset_index(drop=True,inplace=True)"
   ]
  },
  {
   "cell_type": "code",
   "execution_count": 16,
   "id": "fc16fde2-4cd5-4bf7-bd98-220c87a0167f",
   "metadata": {},
   "outputs": [
    {
     "data": {
      "text/html": [
       "<div>\n",
       "<style scoped>\n",
       "    .dataframe tbody tr th:only-of-type {\n",
       "        vertical-align: middle;\n",
       "    }\n",
       "\n",
       "    .dataframe tbody tr th {\n",
       "        vertical-align: top;\n",
       "    }\n",
       "\n",
       "    .dataframe thead th {\n",
       "        text-align: right;\n",
       "    }\n",
       "</style>\n",
       "<table border=\"1\" class=\"dataframe\">\n",
       "  <thead>\n",
       "    <tr style=\"text-align: right;\">\n",
       "      <th></th>\n",
       "      <th>imdb_title_id</th>\n",
       "      <th>title</th>\n",
       "      <th>original_title</th>\n",
       "      <th>year</th>\n",
       "      <th>date_published</th>\n",
       "      <th>genre</th>\n",
       "      <th>duration</th>\n",
       "      <th>director</th>\n",
       "      <th>actors</th>\n",
       "      <th>avg_vote</th>\n",
       "      <th>votes</th>\n",
       "    </tr>\n",
       "  </thead>\n",
       "  <tbody>\n",
       "    <tr>\n",
       "      <th>999</th>\n",
       "      <td>tt8490894</td>\n",
       "      <td>Ee Nagaraniki Emaindi</td>\n",
       "      <td>Ee Nagaraniki Emaindi</td>\n",
       "      <td>2018</td>\n",
       "      <td>2018-06-29</td>\n",
       "      <td>Comedy, Drama</td>\n",
       "      <td>122</td>\n",
       "      <td>Tharun Bhascker Dhaassyam</td>\n",
       "      <td>Vishwak Sen, Sushanth Reddy, Abhinav Gomatam, ...</td>\n",
       "      <td>7.9</td>\n",
       "      <td>1603</td>\n",
       "    </tr>\n",
       "  </tbody>\n",
       "</table>\n",
       "</div>"
      ],
      "text/plain": [
       "    imdb_title_id                  title         original_title  year  \\\n",
       "999     tt8490894  Ee Nagaraniki Emaindi  Ee Nagaraniki Emaindi  2018   \n",
       "\n",
       "    date_published          genre  duration                   director  \\\n",
       "999     2018-06-29  Comedy, Drama       122  Tharun Bhascker Dhaassyam   \n",
       "\n",
       "                                                actors  avg_vote  votes  \n",
       "999  Vishwak Sen, Sushanth Reddy, Abhinav Gomatam, ...       7.9   1603  "
      ]
     },
     "execution_count": 16,
     "metadata": {},
     "output_type": "execute_result"
    }
   ],
   "source": [
    "df.tail(1)"
   ]
  },
  {
   "cell_type": "code",
   "execution_count": 17,
   "id": "9613c55d-e954-41f7-bd71-080d9dc16ee0",
   "metadata": {},
   "outputs": [],
   "source": [
    "#salvando em um novo arquivo csv\n",
    "df.to_csv('top_film.csv')"
   ]
  },
  {
   "cell_type": "markdown",
   "id": "a0fcc78d-a6a4-413d-894a-de4cb5abcf3d",
   "metadata": {},
   "source": [
    "#### \t1.2)  Quais os diretores dos filmes em 1.1 ? \n",
    "####         (Print na tela, ou graficamente)"
   ]
  },
  {
   "cell_type": "code",
   "execution_count": 18,
   "id": "9c0c0341-1d20-4023-9dac-22f4442e536b",
   "metadata": {
    "tags": []
   },
   "outputs": [],
   "source": [
    "top_film = pd.read_csv('top_film.csv')"
   ]
  },
  {
   "cell_type": "code",
   "execution_count": 19,
   "id": "76855324-d8ad-4a33-bc52-fe53675196cd",
   "metadata": {},
   "outputs": [
    {
     "data": {
      "text/plain": [
       "array(['Msn Surya', 'Abner Official', 'Aalmist Subba', 'Sampath Rudra',\n",
       "       'Basheed S.K.', 'Valerio Zanoli', 'Trinadh Velisila', 'Manoj Nair',\n",
       "       'Don Tjernagel', 'Jose Thomas', 'Danny Patrick', 'Anthony Bawn',\n",
       "       'Daniel Keith, Snorri Sturluson', 'Anil Thota', 'Sergey A.',\n",
       "       'Raakesh Baala', 'Balavalli Darshith Bhat', 'Derek Ahonen',\n",
       "       'Sam Mendes', 'Shekhar S. Jha', 'Amith', 'Arsel Arumugam',\n",
       "       'Mahesh Manjrekar', 'Nagaraja Uppunda', 'Amitabh Reza Chowdhury',\n",
       "       'Raghav Peri', 'Ray Nayoan', 'Antoneta Kastrati',\n",
       "       'Marianne Elliott', nan,\n",
       "       'Chathra Weeraman, Bharatha Hettiarachchi', 'Maha Venkatesh',\n",
       "       'Tauquir Ahmed', 'A.K.S. Nambiar', 'Yukio Kaizawa',\n",
       "       'Marc-André Lavoie', 'Ram, Amudhavan Karuppiah',\n",
       "       'Nikoloz Khomasuridze', 'Peter Sundardas', 'Christopher Nolan',\n",
       "       'Sameer Vidwans', 'Dito Tsintsadze', 'Colonelu Morteni',\n",
       "       'Manju Mandavya', 'Florian Frerichs', 'Tim Carroll', 'Yaël Farber',\n",
       "       'Peter Jackson', 'Patrick Kenny', 'Ilanthirayan Alan Arumugam',\n",
       "       'T.V. Chandran', 'Ermalo Magradze',\n",
       "       'Tim Gagliardo, Donavon Warren', 'Sumnash Sri Kaljai',\n",
       "       'Nick Morris, Laurence Connor', 'Brahmanand S. Singh, Tanvi Jain',\n",
       "       'Subodh Bhave', 'Anthony Harrison', 'Muhammad Usamah Zaid',\n",
       "       'Wayne Isham', 'Jamie Lloyd', 'Quentin Tarantino',\n",
       "       'Shivkumar Parthasarathy', 'Jabbar Patel', 'Paul Dugdale',\n",
       "       'Rakesh Sawant', 'David Barnard', 'Gippy Grewal', 'James Marlowe',\n",
       "       'Mukesh Chhabra', 'Alper Caglar', 'Ram Kumar', 'Hemanth M. Rao',\n",
       "       'Thomas Kail', 'Robert Rippberger', 'Vijay K. Bhaskar',\n",
       "       'Corey Lubowich', 'Putrama Tuta', 'Srinivas Bandari',\n",
       "       'Danny Boyle', 'Gregor Kartsios', 'Ivo van Hove',\n",
       "       'Hiroshi Nagahama', 'Ajay Saklani', 'Dipesh Shah', 'Abhishek Shah',\n",
       "       'Nick Lang', 'Jonathan Butterell', 'Mike Stoklasa', 'Sundar C.',\n",
       "       'Abhinav Thakur', 'Samrouddhi Porey', 'Mars McCracken',\n",
       "       'Sudheer Shanbhogue', 'Madhumita Sundararaman',\n",
       "       'Tony Grech-Smith, Rufus Norris', 'Brent Triplett',\n",
       "       'Dzintars Dreibergs', 'Yûichirô Yano', 'Gayatri, Pushkar',\n",
       "       'Abhijeet Shirish Deshpande', 'Indika Ferdinando', 'Jeremy Herrin',\n",
       "       'Rishab Shetty', 'Bhaurao Nanasaheb Karhade', 'Vipul Mehta',\n",
       "       'Harjit Singh', 'Emil Guliev', \"Julien K. d'Arsyn\",\n",
       "       'Hayao Miyazaki', 'Steve Stanulis', 'Lorenzo Thione',\n",
       "       'Thiagarajan Kumararaja', 'Nicole Bowers Wallace', 'Parthiban',\n",
       "       'Amr Gamal', 'Harry Baweja', 'Guel Arraes', 'Madhu C. Narayanan',\n",
       "       'Giasuddin Selim', 'Fernando Meirelles, Kátia Lund',\n",
       "       'C. Prem Kumar', 'Kaushik Ganguly', 'Jonathan Munby',\n",
       "       'Robert Delamere', 'Tareque Masud', 'Bong Joon Ho', 'Nag Ashwin',\n",
       "       'Shiboprosad Mukherjee, Nandita Roy', 'Abhishek Jain',\n",
       "       'Ridley Scott', 'Chandra Siddhartha', 'Baalu Adusumilli',\n",
       "       'Gowtam Tinnanuri', 'Can Ulkay', 'Vetrimaaran',\n",
       "       'Marco Tullio Giordana', 'Roman Polanski', 'Lokesh Kanagaraj',\n",
       "       'Priyanandanan', 'Sudhakar Reddy Yakkanti', 'Ramkumar Shedge',\n",
       "       'Tanel Toom', 'Martin Scorsese', 'Kamal Tabrizi',\n",
       "       'Josie Rourke, Tim Van Someren', 'Ozer Feyzioglu', 'Anna',\n",
       "       'D. Sandeep', 'Stephen Daldry', 'Christina Kyi', 'Faris Godus',\n",
       "       'Todd Phillips', 'Eduard Galic', 'William Wayne',\n",
       "       'Jeff Calhoun, Brett Sullivan', 'Olivier Nakache, Éric Toledano',\n",
       "       'Leninbharati', 'Digpal Lanjekar', 'Sudheer Konderi',\n",
       "       'Raj Rachakonda', 'Humayun Ahmed', 'Swaroop Rsj',\n",
       "       'François Lamoureux, Pierre Lamoureux',\n",
       "       'Arun Prabhu Purushothaman', 'Girish Makwana',\n",
       "       'Sarmad Sultan Khoosat', 'Anurag Singh', 'Damien Chazelle',\n",
       "       'Robin Lough', 'Adnan Sarwar', 'Tim Van Someren',\n",
       "       'Manoj K. Jha, Prince Singh', 'Nick Morris, James Powell',\n",
       "       'Simerjit Singh', 'K. Selvaraghavan', 'Anurag Kashyap',\n",
       "       'Nae Caranfil', 'Dipendra K. Khanal', 'Salim Ahmed, Salim Ahmed',\n",
       "       'Chan-wook Park', 'Jayathirtha', 'Rajkumar Hirani',\n",
       "       'Bob Persichetti, Peter Ramsey', 'Dwight White',\n",
       "       'Anthony Russo, Joe Russo', 'Tony Grech-Smith, Vicky Jones',\n",
       "       'Lee Unkrich, Adrian Molina', 'Ashwiny Iyer Tiwari',\n",
       "       'Andrew Stanton', 'Jeethu Joseph', 'Sergey A., Mikhail Ryabkov',\n",
       "       'Tremain Hayhoe', 'Om Raut', 'Michael Longhurst, Tim Van Someren',\n",
       "       'James MacDonald', 'Paresh Mokashi', 'Kris Smith', 'Mohan Raja',\n",
       "       'Juan Carlos Fanconi', 'Dan Hewitt Owens',\n",
       "       'Florian Henckel von Donnersmarck', 'Ram', 'Ravi Jadhav',\n",
       "       'Volodymyr Tykhyy', 'Bala', 'Aamir Khan, Amole Gupte',\n",
       "       'Michael Glover', 'Mher Mkrtchyan', 'Radivoje Andric',\n",
       "       'M. Manikandan', 'Saandeep Patel', 'Dimitri de Clercq',\n",
       "       'Makoto Shinkai', 'Jeremy Herrin, Ian Russell', 'Jagdeep Sidhu',\n",
       "       'Genndy Tartakovsky', 'Navarasan', 'Prithvi Konanur',\n",
       "       'Anuruddha Jayasinghe', 'Matthew Warchus',\n",
       "       'Nicholas Hytner, Ross MacGibbon', 'V.K. Prakash',\n",
       "       'Vipul K. Rawal', 'Fajar Nugros, Bayu Skak',\n",
       "       'Raju Murugan, Raju Saravanan', 'Rahul Bhole, Vinit Kanojia',\n",
       "       'D. Sumana Kittur', 'Nadine Labaki', 'Milorad Milinkovic',\n",
       "       'Antonio Lukich', 'Dusan Kovacevic', 'Shoaib Mansoor',\n",
       "       'Rakshit Shetty', 'Sukumar', 'Nitesh Tiwari', 'Simon Godwin',\n",
       "       'Nilendra Deshapriya', 'Stephen Daldry, Brett Sullivan', 'Renjith',\n",
       "       'Clarence Williams IV', 'Mehmet Ada Öztekin', 'Soori',\n",
       "       'Asghar Farhadi', 'Guy Ritchie', 'Dibakar Banerjee',\n",
       "       'Nagraj Manjule', 'Sripriya', 'Matt Zemlin, Falk Schultz',\n",
       "       'Mani Ratnam', 'Dominic Dromgoole', 'Kit Ryan', 'Deva Katta',\n",
       "       'Pawan Kumar', 'Anup Bhandari', 'Dileesh Pothan', 'Serif Gören',\n",
       "       'Benedict Andrews, Nick Wickham', 'Bhavani Shankar Kaipa',\n",
       "       'Ahmet Katiksiz', 'Blessy', 'Nalan Kumarasamy', 'Denis Villeneuve',\n",
       "       'Smeep Kang', 'Alphonse Puthren', 'Segun Williams',\n",
       "       'Tigmanshu Dhulia', 'Marwan Hamed', 'Anwar Rasheed',\n",
       "       'Phanindra Narsetti', 'Aditya Dhar', 'Kamal Haasan',\n",
       "       'Sandeep Sawant', 'Rahi Anil Barve, Anand Gandhi', 'Jayaraaj',\n",
       "       'Lee Unkrich', 'A.K. Bir', 'Jayantha Chandrasiri',\n",
       "       'Manas Mukul Pal', 'Anjali Menon', 'Karthick Naren',\n",
       "       'Radha Krishna Jagarlamudi', 'P. Vasu', 'Ravikanth Perepu',\n",
       "       'Sriram Raghavan', 'Joon-ik Lee', 'Daniel Sandu', 'Çagan Irmak',\n",
       "       'Krishnadev Yagnik', 'M.S. Anand', 'Balázs Lóth',\n",
       "       'Sunil Ariyaratne', 'Fikret Aliev', 'Jeral Clyde II',\n",
       "       'Ashir Azeem', 'Balaji Sakthivel', 'Rajeev Patil',\n",
       "       'Yi Zheng, Cag Iglesia de Dios Todopoderoso', 'Zheng Zhou',\n",
       "       'Clovis Mello', 'Karthik Subbaraj', 'Wei Chen, Tong Wu',\n",
       "       'Don Hertzfeldt', 'Ratheesh Balakrishnan Poduval',\n",
       "       'Jean-Pierre Jeunet', 'Yograj Bhat', 'Thomas Vinterberg',\n",
       "       'Lijo Jose Pellissery', 'Darren Aronofsky', 'Ivan Zivkovic',\n",
       "       'Michel Gondry', 'Janardhan Chikkanna', 'Jeff Hathcock',\n",
       "       'Irin Daniels', 'Rakeysh Omprakash Mehra', 'Srijit Mukherji',\n",
       "       'Venkat Ramji', 'Ameer Sultan', 'Timothy A. Chey',\n",
       "       'Oliver Hirschbiegel', 'Nipun Dharmadhikari', 'S. Shankar',\n",
       "       'Trivikram Srinivas', 'John H. Lee', 'Guillermo del Toro',\n",
       "       'Ramesh Varma', 'Pete Docter, Bob Peterson', 'Zakariya Mohammed',\n",
       "       'Paul Thomas Anderson', 'Balaji Tharaneetharan',\n",
       "       'Mostofa Sarwar Farooki', 'Mahi v Raghav', 'Ram Babu Gurung',\n",
       "       'Neeraj Ghaywan', 'Béla Tarr, Ágnes Hranitzky', 'Peter Farrelly',\n",
       "       'Sanjay Leela Bhansali', 'Edward Yang', 'A.R. Murugadoss',\n",
       "       'Mahesh Narayan', 'Oskars Rupenheits', 'Zaza Urushadze',\n",
       "       'Nishikant Kamat', 'Anubhav Sinha', 'Mert Baykal', 'Yôichi Fujita',\n",
       "       'Priyadarshan', 'Asif Rustamov', 'Magizh Thirumeni',\n",
       "       'Christopher Wheeldon, Ross MacGibbon',\n",
       "       'Angga Dwimas Sasongko, Angga Dwimas Sasongko', 'Jacky S. Kumar',\n",
       "       'Brandon Eric Kamin', 'David Whittet', 'Sachin Kundalkar',\n",
       "       'Haseeb Hasan', 'Prashanth Neel', 'Juan José Campanella',\n",
       "       'Sergey A., Dmitriy Rasseko', 'Florian Zeller', \"Gavin O'Connor\",\n",
       "       'Ashutosh Gowariker', 'Hwan-kyung Lee', 'Nitin Kakkar',\n",
       "       'Harry Bhatti, Tarnvir Singh Jagpal', 'Wen Jiang', 'H. Vinoth',\n",
       "       'Kevin Arbouet', 'Anatol Durbalã', 'Ron Howard', 'James McTeigue',\n",
       "       'Meghna Gulzar', 'Ravi L. Bharwani', 'K.S. Ashoka',\n",
       "       'Tharun Bhascker Dhaassyam', 'Ishaan Randeria', 'Mann Robinson',\n",
       "       'Naoko Yamada', 'Ivaylo Hristov', 'Nabwana I.G.G.', 'Vikas Bahl',\n",
       "       'Martin McDonagh', 'Umesh Vinayak Kulkarni', 'Lendita Zeqiraj',\n",
       "       'Shimit Amin', 'Aditya Kripalani', 'S.S. Rajamouli', 'Ritesh Rana',\n",
       "       'Hansal Mehta', 'Tarun Sudhir', 'Bijon', 'Halitha Shameem',\n",
       "       'Raam Reddy', 'Shashank Udapurkar', 'La Raza, Marius Iliescu',\n",
       "       'Charles Meli', 'Ivo van Hove, Nick Wickham', 'Dragan Bjelogrlic',\n",
       "       'Morshedul Islam', 'Saeed Roustayi', 'Nasiruddin Yousuff',\n",
       "       'Aaron K. Carter', 'Vikramaditya Motwane', 'Bhaskar',\n",
       "       'Brett Sullivan', 'Sujay Dahake', 'Shunsuke Tada', 'Amr Salama',\n",
       "       'Tanvir Mokammel', 'Eric Allen Bell', 'Mysskin',\n",
       "       'D. Satya Prakash, Satyaprakash', 'Audrius Juzenas', 'Quanie Cash',\n",
       "       'Roopa Rao', 'Sergio Pablos, Carlos Martínez López',\n",
       "       'Nicholas Hytner, Robin Lough', 'Svebor Mihael Jelic',\n",
       "       'Amrit Sagar', 'Steven Spielberg', 'Andrew Stanton, Lee Unkrich',\n",
       "       'Adam Elliot', 'Masayuki Kojima', 'Vishal Bhardwaj',\n",
       "       'Mamoru Hosoda', 'Dong-hyuk Hwang', 'Zoya Akhtar', 'Anurag Basu',\n",
       "       'Nagesh Kukunoor', 'Yôjirô Takita', 'Nithilan', 'George Miller',\n",
       "       'Derrick Simmons', 'Sandeep Reddy Vanga', 'Céline Sciamma',\n",
       "       'Pete Docter, Ronnie Del Carmen', 'Mel Gibson', 'Angelos Frantzis',\n",
       "       'Clint Eastwood', 'Ljubisa Samardzic', 'Pravin Vitthal Tarde',\n",
       "       'György Pálfi', 'Kamaleswar Mukherjee', 'Tabaré Blanchard',\n",
       "       'Brett Michael Innes', 'Xavier Dolan', 'Nuri Bilge Ceylan',\n",
       "       'Sujoy Ghosh', 'Sean Penn', 'Rajesh Pillai', 'Rajeev Ravi',\n",
       "       'Ashwath Marimuthu', 'Parambrata Chattopadhyay', 'Neeraj Pandey',\n",
       "       'James Mangold', 'Tom McCarthy', 'Jerry Mitchell, Brett Sullivan',\n",
       "       'Terry George', 'Ajay Bahl', 'Vijith Nambiar', 'Kar-Wai Wong',\n",
       "       'A.L. Vijay, A.L. Vijay', 'Rajkumar Santoshi', 'Tomm Moore',\n",
       "       'Aniruddha Roy Chowdhury', 'Noriyuki Abe',\n",
       "       'Aditya Vikram Sengupta', 'Sion Sono', 'Nischal Basnet',\n",
       "       'Matt Lang', 'Steve McQueen', 'Rob Ashford, Kenneth Branagh',\n",
       "       'Arun Kumar', 'M. Padmakumar', 'Milos Avramovic',\n",
       "       'Johnpaul George', 'David Yates', 'Zolbayar Dorj', 'Guruprasad',\n",
       "       'Nicholas Barton', 'K. Kavi Nanthan', 'Je-kyu Kang',\n",
       "       'Damián Szifron', 'Lasse Hallström', 'Alejandro G. Iñárritu',\n",
       "       'Marek Koterski', 'Chandra Sekhar Yeleti', 'Soubin Shahir',\n",
       "       'David Fincher', 'Yôji Yamada', 'Hirokazu Koreeda', 'Wes Anderson',\n",
       "       'Bhaskar Hazarika', 'Vijay Kumar',\n",
       "       'Tatsuya Ishihara, Yasuhiro Takemoto', 'Julia Albain, Nick Lang',\n",
       "       'Umesh Shukla', 'Pradeep Bhattarai', 'Nikos Grammatikos',\n",
       "       'José Padilha', 'Achal Mishra', 'Hae-jun Lee',\n",
       "       'Ethan Coen, Joel Coen', 'Lenny Abrahamson', 'Lal Jose',\n",
       "       'Oriol Paulo', 'Anik Datta', 'Abhishek, Meenakshii', 'Gui Pereira',\n",
       "       'Dean DeBlois, Chris Sanders', 'Farhan Akhtar', 'Bahman Ghobadi',\n",
       "       'Arsen A. Ostojic', 'Tolga Karaçelik', 'K.S. Ravikumar',\n",
       "       'Amit Ravindernath Sharma', 'Samuthirakani', 'Lee Isaac Chung',\n",
       "       'Aashiq Abu', 'Marcus D. Spencer', 'David Batty', 'Richard Kelly',\n",
       "       'Martha Pinson', 'Frank Miller, Quentin Tarantino',\n",
       "       'Deniz Denizciler', 'Lars von Trier', 'Suni',\n",
       "       'Vincent Paronnaud, Marjane Satrapi', 'R. Ravikumar',\n",
       "       'Vikram K. Kumar', 'Roshan Andrews', 'Anand Gandhi', 'Kabir Khan',\n",
       "       'Ginatri S. Noer', 'Gunasekhar', 'Noah Baumbach', 'Upendra',\n",
       "       'Lucien Bourjeily', 'Yuriy Bykov', 'Edward Zwick', 'Isao Takahata',\n",
       "       'Alejandro Amenábar', 'James Gunn', 'Bryan Singer',\n",
       "       'Khalid Rahman', 'Matthew Dunster', 'Takashi Imanishi',\n",
       "       'Pete Docter, David Silverman', 'Byron Howard, Rich Moore',\n",
       "       'Ömer Faruk Sorak', 'Vaidas Lekavicius', 'Pawo Choyning Dorji',\n",
       "       'Tim Burton', 'Daniel Rezende', 'Suchanda', 'Salim Ahmed',\n",
       "       'Alexandre Rockwell', 'Indra Gunawan', 'Julian Schnabel',\n",
       "       'Sôichi Masui', 'Paul Greengrass', 'Michael Matteo Rossi',\n",
       "       'Syed Ahmad Afzal', 'Jean-Marc Vallée', 'Gore Verbinski',\n",
       "       'Narthan', 'Brad Bird', 'Mamoru Oshii', 'Wilson Yip',\n",
       "       'Garth Davis', 'Gareth Evans', 'Sally Cookson', 'Girish A.D.',\n",
       "       'Tomonori Sudô', 'Mariano Llinás',\n",
       "       'Vijjapat Kojiw, Songyos Sugmakanan', 'Joyce Bernal',\n",
       "       'Kenji Nagasaki', 'Satish Rajwade', 'Sarah Warren', 'Spike Jonze',\n",
       "       'Yukihiro Miyamoto, Akiyuki Shinbo', 'Khalid Marie',\n",
       "       'Vivek Athreya', 'Tolga Örnek', 'Emilio Ruiz Barrachina',\n",
       "       'Radha Mohan', 'Cyrus Nowrasteh', 'Nila Madhab Panda',\n",
       "       'Tom Hooper', 'Hardik Mehta', 'Ki-duk Kim', 'Ernest Prakasa',\n",
       "       'Mark Bramble, Ross MacGibbon', 'Rajat Kapoor', 'Raj B. Shetty',\n",
       "       'Pa. Ranjith', 'Diana Angelson', 'Ketan Mehta', 'Bhavna Talwar',\n",
       "       'Brad Bird, Jan Pinkava', 'Kshitij Sharma', 'Andrew Lau, Alan Mak',\n",
       "       'Vamshi Paidipally', 'Rajesh Mapuskar', 'Ram Gopal Varma',\n",
       "       'Midhun Manuel Thomas', 'Gabriele Muccino', 'R.S. Vimal',\n",
       "       'Jira Maligool', 'André Chemetoff', 'Bramma G.',\n",
       "       'Baldvin Zophoníasson', 'Chezhian Ra', 'Raja Menon',\n",
       "       'Masayuki, Kazuya Tsurumaki', 'Kieth Merrill', 'David Lynch',\n",
       "       'Morten Tyldum', 'Karan Johar', 'Destin Daniel Cretton',\n",
       "       'Gary Halvorson', 'Sekhar Kammula', 'Tate Taylor',\n",
       "       'Martin Campbell', 'Gautham Menon', 'Chakri Toleti',\n",
       "       'Manu Ashokan', 'Joss Whedon', 'Priya Krishnaswamy',\n",
       "       'Benjamin Rider', 'Stephan Komandarev', 'Varun Narvekar',\n",
       "       'Jae-young Kwak', 'Hiroyuki Imaishi', 'K.M. Chaitanya',\n",
       "       'Chandra Prakash Dwivedi', 'M. Sasikumar', 'Malindi Fickle',\n",
       "       'Nikkhil Advani', 'Tim Miller', 'Andrey Zvyagintsev',\n",
       "       'Stephen Chbosky', 'Yilmaz Erdogan, Ömer Faruk Sorak',\n",
       "       'Peter Watkins', 'A. Sarkunam', 'Levent Semerci',\n",
       "       'Richard Linklater', 'Ericson Core', 'Vijaya Prasad', 'Kavi Raz',\n",
       "       'Danny Boyle, Loveleen Tandan', 'Tatsuya Oishi, Akiyuki Shinbo',\n",
       "       'Aditya Sarpotdar', 'Mikhil Musale',\n",
       "       'David Leveaux, Tim Van Someren', 'M. Saravanan', 'Ilmar Raag',\n",
       "       'Doug Liman', 'Dayal Padmanabhan', 'Ahmet Uluçay', 'Tarsem Singh',\n",
       "       'R. Balki', 'Eddy Terstall', 'Dan Gilroy', 'J.J. Abrams',\n",
       "       'Sotiris Tsafoulias', 'Keitarô Motonaga', 'Irfan Kamal', 'Sachin',\n",
       "       'Advait Chandan', 'Hiroaki Andô', 'Edgar Reitz', 'Souvik Mitra',\n",
       "       'Cristi Puiu', 'Fatih Akin', \"Shin'ichirô Ushijima\",\n",
       "       'Antonio Mitrikeski', 'Satoshi Kon', 'Uranchimeg Urtnasan',\n",
       "       'Sudha Kongara', 'Pavel Lungin', 'Ken Loach, Laura Obiols',\n",
       "       'Tymur Yashchenko', \"Shin'ichirô Watanabe, Tensai Okamura\",\n",
       "       'Tarnvir Singh Jagpal', 'Toshiyuki Kubooka', 'Levan Tutberidze',\n",
       "       'Jacques Audiard', 'Taika Waititi', 'Adarsh Eshwarappa',\n",
       "       'Chang-dong Lee', 'Alfonso Cuarón', 'Bahram Tavakoli',\n",
       "       'Takahiro Ômori', 'Puri Jagannadh', 'Scott Douglas Brown',\n",
       "       'Michel Hazanavicius', 'Abhishek Chaubey', 'Morio Asaka',\n",
       "       'Anam Biswas', 'Arindam Sil', 'Cherag Ruparel',\n",
       "       'Padmakumar Narasimhamurthy', 'Onur Ünlü', 'Prakash',\n",
       "       'Bilal Lashari', 'Elizabeth Blake-Thomas', 'Olan Rogers',\n",
       "       'Matthew Dunster, Ian Russell', 'Maryo J. de los Reyes',\n",
       "       'Christopher Luscombe', 'Zeki Demirkubuz', 'Quentin Krog',\n",
       "       'Riki Okamura', 'Theodoros Angelopoulos', 'Aigars Grauba',\n",
       "       'Kip Oebanda', 'Yimou Zhang', 'Aparna Sen', 'Jon Favreau',\n",
       "       'Ali Sade', 'Akhtem Seitablaev', 'Santosh Manjrekhar',\n",
       "       'Sadhu Kokila', 'Dan Hartley', 'Ivan Tymchenko',\n",
       "       'Fabián Bielinsky', 'Danis Tanovic', 'Eliane Caffé',\n",
       "       'Venkat Prabhu', 'Corbin Timbrook', 'Pedro Almodóvar', 'Hun Jang',\n",
       "       'Pritha Chakraborty', 'S.J. Suryah', 'Daniel Ribeiro',\n",
       "       'Radu Mihaileanu', 'Edgar Wright', 'Masashi Koizuka',\n",
       "       'Christophe Barratier', 'Praveen Sattaru', 'Santha Kumar',\n",
       "       'Ciro Guerra', 'Majid Majidi', 'Tatsuya Nagamine', 'Nobuhiro Doi',\n",
       "       'Daryne Joshua', 'Hiroyuki Yamashita, Toshiyuki Tsuru',\n",
       "       'Tristan James Jensen', 'Nabil Ayari', 'Cristian Mungiu',\n",
       "       'Muye Wen', 'Takayuki Hirao, Takahiro Miura', 'Arianne Benedetti',\n",
       "       'Luca Guadagnino', 'Hamdi Alkan', 'Santhosh Ananddram',\n",
       "       'Yandy Laurens', 'Stéphane Aubier, Vincent Patar',\n",
       "       'Richard Schenkman', 'Amshan Kumar', 'Goutam Ghose', 'Ang Lee',\n",
       "       'Srdan Golubovic', 'Michael Haneke', 'Cristian Nemescu',\n",
       "       'Rian Johnson', 'M.G. Srinivas', 'Dan Villegas', 'Sudhir Mishra',\n",
       "       'Nitheesh K. Nair', 'Saran', 'Jeremy Herrin, Tim Van Someren',\n",
       "       'Madhav Ramadasan', 'Duncan Jones', 'Janchivdorj Sengedorj',\n",
       "       'Srdjan Koljevic', 'Ittisoontorn Vichailak', 'Marcell Jankovics',\n",
       "       'Horatiu Malaele', 'Neill Blomkamp', 'Avinash Arun',\n",
       "       'Cameron Crowe', 'Imtiaz Ali', 'Devanshu Singh, Satyanshu Singh',\n",
       "       'Tomas Alfredson', 'John Carney', 'Raveen Kumaara', 'Oles Sanin',\n",
       "       'Takaomi Kanasaki', 'Khurram H. Alavi, Ayman Jamal'], dtype=object)"
      ]
     },
     "execution_count": 19,
     "metadata": {},
     "output_type": "execute_result"
    }
   ],
   "source": [
    "#este comando gera uma lista muito extensa\n",
    "top_film.director.unique()"
   ]
  },
  {
   "cell_type": "code",
   "execution_count": 20,
   "id": "6ee8eec9-fd16-4990-bccc-adc25ce06a6b",
   "metadata": {},
   "outputs": [],
   "source": [
    "#selecionando 10 diretores mais bem avaliados\n",
    "top_10_director = top_film[['director','avg_vote']].head(10)"
   ]
  },
  {
   "cell_type": "code",
   "execution_count": 21,
   "id": "0516f963-93aa-4d4b-a8ad-5d7b5d2d6725",
   "metadata": {},
   "outputs": [
    {
     "data": {
      "image/png": "[encoded data removed]",
      "text/plain": [
       "<Figure size 432x288 with 1 Axes>"
      ]
     },
     "metadata": {
      "needs_background": "light"
     },
     "output_type": "display_data"
    }
   ],
   "source": [
    "#plot dos top 10 diretores de acordo com a média dos votos\n",
    "plot_barh = plt.barh(top_10_director['director'], top_10_director['avg_vote'], color = 'r')\n",
    "plt.title('TOP 10 DIRETORES')\n",
    "plt.xlabel('Avaliações')\n",
    "plt.ylabel('Diretores')\n",
    "plt.show()"
   ]
  },
  {
   "cell_type": "markdown",
   "id": "8b7cdfcb-0027-4657-b255-bf5d7fd76c51",
   "metadata": {},
   "source": [
    "#### \t1.3) Quais os atores principais dos filmes em 1.1)  \n",
    "####         (Print na tela, ou graficamente)\n"
   ]
  },
  {
   "cell_type": "code",
   "execution_count": 22,
   "id": "52e9781c-4d66-4fc2-87ea-0007ff80a85d",
   "metadata": {},
   "outputs": [
    {
     "data": {
      "text/plain": [
       "0    [Shamna Kasim,  Sakshi Chaudhary,  Jaya Prada,...\n",
       "Name: actors, dtype: object"
      ]
     },
     "execution_count": 22,
     "metadata": {},
     "output_type": "execute_result"
    }
   ],
   "source": [
    "atores = top_film[['avg_vote','director','actors']].dropna()\n",
    "atores['actors'] = top_film['actors'].str.split(',')\n",
    "\n",
    "atores.reset_index(inplace=True, drop=True)\n",
    "atores.actors.head(1)"
   ]
  },
  {
   "cell_type": "code",
   "execution_count": 23,
   "id": "a70a7def-c7f4-456c-bb19-4d2c518ed371",
   "metadata": {},
   "outputs": [
    {
     "name": "stderr",
     "output_type": "stream",
     "text": [
      "<ipython-input-23-10f4d2354bf1>:5: SettingWithCopyWarning: \n",
      "A value is trying to be set on a copy of a slice from a DataFrame\n",
      "\n",
      "See the caveats in the documentation: https://pandas.pydata.org/pandas-docs/stable/user_guide/indexing.html#returning-a-view-versus-a-copy\n",
      "  atores['actors'][i] = A[i][0]\n"
     ]
    },
    {
     "data": {
      "text/html": [
       "<div>\n",
       "<style scoped>\n",
       "    .dataframe tbody tr th:only-of-type {\n",
       "        vertical-align: middle;\n",
       "    }\n",
       "\n",
       "    .dataframe tbody tr th {\n",
       "        vertical-align: top;\n",
       "    }\n",
       "\n",
       "    .dataframe thead th {\n",
       "        text-align: right;\n",
       "    }\n",
       "</style>\n",
       "<table border=\"1\" class=\"dataframe\">\n",
       "  <thead>\n",
       "    <tr style=\"text-align: right;\">\n",
       "      <th></th>\n",
       "      <th>avg_vote</th>\n",
       "      <th>director</th>\n",
       "      <th>actors</th>\n",
       "    </tr>\n",
       "  </thead>\n",
       "  <tbody>\n",
       "    <tr>\n",
       "      <th>0</th>\n",
       "      <td>9.9</td>\n",
       "      <td>Msn Surya</td>\n",
       "      <td>Shamna Kasim</td>\n",
       "    </tr>\n",
       "  </tbody>\n",
       "</table>\n",
       "</div>"
      ],
      "text/plain": [
       "   avg_vote   director        actors\n",
       "0       9.9  Msn Surya  Shamna Kasim"
      ]
     },
     "execution_count": 23,
     "metadata": {},
     "output_type": "execute_result"
    }
   ],
   "source": [
    "#Selecionando o primeiro ator da lista de atores\n",
    "A = atores['actors'].values\n",
    "\n",
    "for i in range(len(A)):\n",
    "    atores['actors'][i] = A[i][0]\n",
    "\n",
    "atores.head(1)"
   ]
  },
  {
   "cell_type": "code",
   "execution_count": 24,
   "id": "720523b7-2090-4073-a578-e7e354092dda",
   "metadata": {},
   "outputs": [
    {
     "data": {
      "text/plain": [
       "array(['Shamna Kasim', 'Angibell', 'Prashant Baraili', 'Bishnu Adhikari',\n",
       "       'Mumait Khan', 'Walter Nudo', 'Abhinay', 'Siju Wilson',\n",
       "       'Matt Anderson', 'Kishore Satya', 'Connor Barr', 'Ron Moody',\n",
       "       'Andre Myers', 'Daniel Keith', 'Mahesh Achanta', 'Sergey A.',\n",
       "       'Abhirami', 'Ravi Bhat', 'Rob Franco', 'Simon Russell Beale',\n",
       "       'Priyanshu Chatterjee', 'Amith', 'Shanthi Anand', 'Nana Patekar',\n",
       "       'Githanjali', 'Chanchal Chowdhury', 'James Robinson Jr.',\n",
       "       'Putri Marino', 'Adriana Matoshi', 'Andrew Garfield',\n",
       "       'Uddika Premarathna', 'Radha Bessy', 'Shahiduzzaman Selim',\n",
       "       'Sheikh Rasheed', 'Dorothée Berryman', 'Mammootty',\n",
       "       'Rezo Chkhikvishvili', 'Hemanth Menon', 'Christian Bale',\n",
       "       'Bhagyashree Milind', 'Goga Pipinashvili', 'Colonelu Morteni',\n",
       "       'Chikkanna', 'Bruno Eyron', 'Samuel Barnett', 'Richard Armitage',\n",
       "       'Kim Kold', 'Noel Appleby', 'Michael Crowley', 'Tahlia Jade Holt',\n",
       "       'Lal', 'David Kamkamidze', 'Donavon Warren', 'Mehul Adwani',\n",
       "       'Alfie Boe', 'Anastacia', 'Boman Irani', 'Sachin Pilgaonkar',\n",
       "       'Anthony Harrison', 'Altimet', 'Edgar Barradas', 'James McAvoy',\n",
       "       'Uma Thurman', 'Anand Alkunte', 'Jeff Lynne', 'Hiten Tejwani',\n",
       "       'Leonardo DiCaprio', 'Nick Cave', 'Gippy Grewal', 'Eric Roberts',\n",
       "       'Sushant Singh Rajput', 'Caglar Ertugrul', 'Ramin Karimloo',\n",
       "       'Alan Howard', 'Vishnu Vishal', 'Anant Nag', 'Daveed Diggs',\n",
       "       'Danny Glover', 'Venkatesh Daggubati', 'Curt Mega',\n",
       "       'Daniel Mananta', 'Karunya Chowdary', 'Benedict Cumberbatch',\n",
       "       'Etienne Gardé', 'Emun Elliott', 'Bruce Allpress', 'Yûto Nakano',\n",
       "       'Asif Basra', 'Karan Bhanushali', 'Shraddha Dangar',\n",
       "       'Jon Matteson', 'John McCrea', 'Mike Stoklasa', 'Kamal Haasan',\n",
       "       'Harry Styles', 'Preetika Chauhan', 'Bruce McCracken',\n",
       "       'Vinay Rajkumar', 'Yog Japee', 'Amy Forrest', 'Jon Etheridge',\n",
       "       'Oto Brantevics', 'Sumire Morohoshi', 'Madhavan', 'Subodh Bhave',\n",
       "       'Jagath Chamila', 'Colin Morgan', 'Shashank Shende',\n",
       "       'Siddharth Randeria', 'Pavan Malhotra', 'Ellen Burstyn',\n",
       "       'Rovshan Agayev', 'Joelle Hélary', 'Rumi Hiiragi',\n",
       "       'Steve Stanulis', 'Aaron Albano', 'Sampath Raj',\n",
       "       'Ava Deluca-Verley', 'Parthiban', 'Sali Hamada', 'Harman Baweja',\n",
       "       'Matheus Nachtergaele', 'Shane Nigam', 'Alexandre Rodrigues',\n",
       "       'Vijay Sethupathi', 'Riddhi Sen', 'Ian McKellen', 'Tom Bateman',\n",
       "       'Nurul Islam Bablu', 'Kang-ho Song', 'Keerthy Suresh',\n",
       "       'Soumitra Chatterjee', 'Darshan Jariwala', 'Russell Crowe',\n",
       "       'Rajendra Prasad', 'Dhanya Balakrishna', 'Nani', 'Çetin Tekindor',\n",
       "       'Hugh Jackman', 'Dhanush', 'Luigi Lo Cascio', 'Adrien Brody',\n",
       "       'Karthi', 'Irshad', 'Nagraj Manjule', 'Sajid Ali',\n",
       "       'Ankush Chaudhari', 'Priit Loog', 'Dinesh', 'Parviz Parastui',\n",
       "       'Rochenda Sandall', 'Hayat Van Eck', 'Miao Chen', 'Shreyas Behere',\n",
       "       'Helen Mirren', 'Zenn Kyi', 'Sohayb Godus', 'Joaquin Phoenix',\n",
       "       'Marko Petric', 'Korrina Rico', 'Jeremy Jordan', 'François Cluzet',\n",
       "       'Antony', 'Mrinmayee Deshpande', 'Habib Ghuloom', 'Priyadarshi',\n",
       "       'Meher Afroz Shaon', 'Naveen Polishetty', 'Geddy Lee',\n",
       "       'Aditi Balan', 'Vidya Makan', 'Sania Saeed', 'Diljit Dosanjh',\n",
       "       'Miles Teller', 'Carey Mulligan', 'Adnan Sarwar',\n",
       "       'Imelda Staunton', 'Jimmy Sheirgill', 'Michael Ball',\n",
       "       'Amrinder Gill', 'Kay Kay Menon', 'Mircea Diaconu',\n",
       "       'Khagendra Lamichhane', 'Min-sik Choi', 'Rishab Shetty',\n",
       "       'Aamir Khan', 'Shameik Moore', 'Kevin L. Walker',\n",
       "       'Robert Downey Jr.', 'Phoebe Waller-Bridge', 'Anthony Gonzalez',\n",
       "       'Swara Bhaskar', 'Ben Burtt', 'Mikhail Ryabkov', 'Shawn Valentino',\n",
       "       'Lucian Msamati', 'Imogen Poots', 'Chaitanya Badve', 'Nina Taylor',\n",
       "       'Jayam Ravi', 'José Zúñiga', 'Dan Hewitt Owens', 'Martina Gedeck',\n",
       "       'Jiiva', 'Atul Kulkarni', 'Dmytro Tuboltsev', 'Vikram',\n",
       "       'Darsheel Safary', 'Christiane Paul', 'Guy Pearce',\n",
       "       'George Hovakimyan', 'Sergej Trifunovic', 'Ramesh',\n",
       "       'Malhar Thakar', 'Delfine Bafort', 'Ryûnosuke Kamiki',\n",
       "       'Roger Allam', 'Ammy Virk', 'Aaron LaPlante',\n",
       "       'Radhika Kumaraswamy', 'Yash Shetty', 'Kamal Addaraarachchi',\n",
       "       'Nicole Agada', 'Oliver Chris', 'Nithya Menen', 'Yashodhan Rana',\n",
       "       'Don Tjernagel', 'Bayu Skak', 'Guru Somasundaram',\n",
       "       'Bhairavi Athavle', 'Jamie Foxx', 'Shwetha Srivatsav',\n",
       "       'Zain Al Rafeea', 'Gurpreet Ghuggi', 'Nikola Djuricko',\n",
       "       'Irma Vitovskaya', 'Bora Todorovic', 'Rakshit Shetty',\n",
       "       'Shaan Shahid', 'Kishore Kumar G.', 'Ram Charan', 'Ralph Fiennes',\n",
       "       'Mohamed Adamaly', 'Elliott Hanna', 'Tini Tom', 'Avery Anthony',\n",
       "       'Aras Bulut Iynemli', 'Bipasha Hayat', 'Vikky Varun',\n",
       "       'Payman Maadi', 'Benicio Del Toro', 'Anupam Kher',\n",
       "       'Somnath Awghade', 'Nagarjuna Akkineni', 'Matt Zemlin',\n",
       "       'Steffan Donnelly', 'Elaine Cassidy', 'Rashmi Gautam',\n",
       "       'Sathish Neenasam', 'Nirup Bhandari', 'Fahadh Faasil',\n",
       "       'Tarik Akan', 'Gillian Anderson', 'Deepti', 'Ekin Koç', 'Mohanlal',\n",
       "       'Mustafa Kamel', 'Nivin Pauly', 'Brad Pitt', 'Tope Adeloye',\n",
       "       'Kunal Kapoor', 'Karim Abdel Aziz', 'Dulquer Salmaan',\n",
       "       'Dharani Addandi', 'Vicky Kaushal', 'Arun Nalawade', 'Sohum Shah',\n",
       "       'Shine Tom Chacko', 'Tom Hanks', 'Arif Zakaria', 'Samiul Alam',\n",
       "       'Nazriya Nazim', 'Rahman', 'Sharwanand', 'V. Ravichandran',\n",
       "       'Adivi Sesh', 'Ayushmann Khurrana', 'Re Lee', 'Stefan Iancu',\n",
       "       'Yash Soni', 'Vinoth Kishan', 'Dean-Charles Chapman',\n",
       "       'Annamária Babják', 'Pallavi Subhash Shirke', 'Nasiba Zeynalova',\n",
       "       'Zemfira Abdulsamadova', 'Lauren Amelia Arouni', 'Satish Alekar',\n",
       "       'Ashir Azeem', 'Sri', 'Upendra Limaye', 'Qian Chen', 'Ping Yun',\n",
       "       'Bruno Garcia', 'Siddharth', 'Guanghui Li', 'Soubin Shahir',\n",
       "       'Audrey Tautou', 'Ganesh', 'Rinku Rajguru', 'Mads Mikkelsen',\n",
       "       'Chemban Vinod Jose', 'Goran Susljik', 'Jim Carrey',\n",
       "       'Naveen Shankar', 'Robert Miano', 'McMagic Cardenas', 'Aparna Sen',\n",
       "       'Tammy Felice', 'Bruno Ganz', 'Pushkaraj Chirputkar',\n",
       "       'Mahesh Babu', 'Woo-sung Jung', 'Ivana Baquero',\n",
       "       'Sai Srinivas Bellamkonda', 'Edward Asner', 'Daniel Day-Lewis',\n",
       "       'Shahir Huda Rumi', 'Dayahang Rai', 'Richa Chadha', 'Lars Rudolph',\n",
       "       'Viggo Mortensen', 'Amitabh Bachchan', 'Farhan Akhtar',\n",
       "       'Nien-Jen Wu', 'Prithviraj Sukumaran', 'Vijayakanth',\n",
       "       'Lauris Klavins', 'Lembit Ulfsak', 'Ajay Devgn', 'Tom Alter',\n",
       "       'Ferhan Sensoy', 'Tomokazu Sugita', 'Akshay Kumar', 'Namig Agayev',\n",
       "       'Arun Vijay', 'Ashley Andrews', 'Abdurrahman Arif', 'Jeff Blim',\n",
       "       'Vinod Kedamangalam', 'Andrea Barnes', 'Lisa Beach',\n",
       "       'Siddharth Chandekar', 'Hamza Ali Abbasi', 'Yash',\n",
       "       'Soledad Villamil', 'Anthony Hopkins', 'Joel Edgerton',\n",
       "       'Shah Rukh Khan', 'Seung-ryong Ryu', 'Kumud Mishra',\n",
       "       'Tarsem Jassar', 'Wen Jiang', 'Karen Pittman', 'Igor Babiac',\n",
       "       'Natalie Portman', 'Irrfan Khan', 'Raihaanun Soeriaatmadja',\n",
       "       'Kushi', 'Parvathy Thiruvothu', 'Ajith Kumar', 'Abhay Bethiganti',\n",
       "       'Manoj Bajpayee', 'Parambrata Chattopadhyay', 'Marian Berry',\n",
       "       'Miyu Irino', 'Ivan Barnev', 'Kakule William', 'Kangana Ranaut',\n",
       "       'Frances McDormand', 'Arti Lokaj', 'Chitrangada Chakraborty',\n",
       "       'Prabhas', 'Sri Simha Koduri', 'Rajkummar Rao', 'Prajwal Devaraj',\n",
       "       'Mahmudur Anindo', 'Fazlul Haque', 'Sara Arjun', 'Thammegowda S.',\n",
       "       'Ashok Saraf', 'Zachary Laoutides', 'Charles Meli',\n",
       "       'Milos Bikovic', 'Chowdhury Zawata Afnan', 'Jaya Ahsan',\n",
       "       'Mel Novak', 'Rajat Barmecha', 'Jon Jon Briones', 'Anshuman Joshi',\n",
       "       'Chieko Baishô', 'Kenshô Ono', 'Dhananjaya', 'Hind Sabri',\n",
       "       'Raisul Islam Asad', 'Michael Angarano', 'Mysskin',\n",
       "       'Nataraj S. Bhat', 'Anastasija Marcenkaite', 'Shahed Ali',\n",
       "       'Sri Murali', 'Humaima Malik', 'Quanie Cash', 'Karthik Achari',\n",
       "       'Jason Schwartzman', 'Suzanne Toase', 'Patrik Gregurec',\n",
       "       'Albert Brooks', 'Prasenjit Chatterjee', 'Christopher Massey',\n",
       "       'Miyu Tomita', 'Manoj Kumar Manchu', 'Tabu', 'Aoi Miyazaki',\n",
       "       'Yoo Gong', 'Ranveer Singh', 'Ranbir Kapoor', 'Shreyas Talpade',\n",
       "       'Masahiro Motoki', 'Vidharth', 'Tom Hardy',\n",
       "       'Marius Florea Vizante', 'Derrick Simmons', 'Sanjay Dutt',\n",
       "       'Vijay Deverakonda', 'Noémie Merlant', 'Amy Poehler',\n",
       "       'Yashoda Wimaladharma', 'Karyofyllia Karabeti', 'Clint Eastwood',\n",
       "       'Sandeep Kulkarni', 'Nebojsa Glogovac', 'Sunil Abhyankar',\n",
       "       'Vishnuvardhan', 'Isabelle Adjani', 'Saswata Chatterjee',\n",
       "       'Manny Perez', 'Anel Alexander', 'Anne Dorval', 'Haluk Bilginer',\n",
       "       'Vidya Balan', 'Narain', 'Emile Hirsch', 'Sreenivasan',\n",
       "       'Ashok Selvan', 'Tanuja', 'Mark Ruffalo', 'Matt Henry',\n",
       "       'Xolani Mali', 'Akshaye Khanna', 'Manesh Krishnan',\n",
       "       'Nataraja Subramanian', 'Maggie Cheung', 'David Rawle',\n",
       "       'Taapsee Pannu', 'Daisuke Ono', 'Ritwick Chakraborty',\n",
       "       'Takahiro Nishijima', 'Min-hee Kim', 'Joey Richter', 'Zahid Hasan',\n",
       "       'Chiwetel Ejiofor', 'Marisa Berenson', 'Murali Gopy',\n",
       "       'Joju George', 'Chethan Jayalal', 'Dorjsambuu Dambii', 'Jaggesh',\n",
       "       'Justin France', 'Yuvaraj Krishnasamy', 'Dong-Gun Jang',\n",
       "       'Chris Hemsworth', 'Darío Grandinetti', 'Richard Gere',\n",
       "       'Emilio Echevarría', 'Prakash Raj', 'Matt Damon', 'Marek Kondrat',\n",
       "       'Sundeep Kishan', 'Abhishek', 'Amal Shah', 'Hrithik Roshan',\n",
       "       'Ben Affleck', 'Hiroyuki Sanada', 'Yûya Yagira', 'Lima Das',\n",
       "       'Vijay Kumar', 'Aya Hirano', 'Lauren Lopez', 'Paresh Rawal',\n",
       "       'Dogu Demirkol', 'Bipin Karki', 'Vangelis Mourikis',\n",
       "       'Wagner Moura', 'Kate Duchêne', 'Abhinav Jha', 'Jae-yeong Jeong',\n",
       "       'Tommy Lee Jones', 'Brie Larson', 'Mario Casas',\n",
       "       'Swastika Mukherjee', 'Anindya Pulak Banerjee', 'Gabriel Sater',\n",
       "       'Jay Baruchel', 'Soran Ebrahim', 'Alma Prica',\n",
       "       'Shashwati Pimplikar', 'Nadir Saribacak', 'Dan Burman',\n",
       "       'Namo Narayana', 'Steven Yeun', 'Sumanth', 'Marcus D. Spencer',\n",
       "       'Selva Rasalingam', 'Jake Gyllenhaal', 'Sebastian Street',\n",
       "       'Jessica Alba', 'Onur Tuna', 'Nicole Kidman', 'Chiara Mastroianni',\n",
       "       'Akkineni Nageshwara Rao', 'Aida Elkashef', 'Salman Khan',\n",
       "       'Adhisty Zara', 'Saif Al-Warith', 'Adam Driver', 'Hiroshi Abe',\n",
       "       'Upendra', 'Farah Shaer', 'Artyom Bystrov', 'Aki Asakura',\n",
       "       'Javier Bardem', 'Abhay Deol', 'Chris Pratt', 'Rami Malek',\n",
       "       'Ryan Gosling', 'Sid White', 'Josef Davies', 'Shûichi Ikeda',\n",
       "       'John Goodman', 'Ginnifer Goodwin', 'Cem Yilmaz', 'Ilona Balsyte',\n",
       "       'Sherab Dorji', 'Ewan McGregor', 'Vladimir Brichta', 'Riaz',\n",
       "       'Salim Kumar', 'Lana Rockwell', 'Jefri Nichol', 'Mathieu Amalric',\n",
       "       'Kaito Ishikawa', 'Broto Banerjee', 'Chris Petrovski',\n",
       "       'Randeep Hooda', 'Rahul Bhat', 'Matthew McConaughey',\n",
       "       'Johnny Depp', 'Monali Thakur', 'Shivarajkumar', 'Craig T. Nelson',\n",
       "       'Atsuko Tanaka', 'Donnie Yen', 'Sunny Pawar', 'Iko Uwais',\n",
       "       'Lily Franky', 'Charmy Kaur', 'Benji Bower', 'Vineeth Sreenivasan',\n",
       "       'S.J. Suryah', 'Cheran', 'Yu Asakawa', 'Mariano Llinás',\n",
       "       'Charlie Trairat', 'Sarah Geronimo', 'Ahmareen Anjum',\n",
       "       'Daiki Yamashita', 'Swwapnil Joshi', 'Sarah Warren', 'Aoi Yûki',\n",
       "       'Ahmed Helmy', 'Sree Vishnu', 'Rebecca Grant',\n",
       "       'Shohreh Aghdashloo', 'Gulshan Grover', 'Colin Firth',\n",
       "       'Sanjay Mishra', 'Seung-Yun Lee', 'Ernest Prakasa',\n",
       "       'Bonnie Langford', 'Usha Bhandary', 'Diana Angelson',\n",
       "       'Nawazuddin Siddiqui', 'Pankaj Kapur', 'Patton Oswalt',\n",
       "       'Deeya Dey', 'Andy Lau', 'Tanvi Abhyankar', 'Kunchacko Boban',\n",
       "       'Björk', 'Will Smith', 'Pijaya Vachajitpan', 'Master Ajay',\n",
       "       'Elín Sif Halldórsdóttir', 'Dharun Bala', 'Kotono Mitsuishi',\n",
       "       'Golshifteh Farahani', 'Rick Macy', 'Naomi Watts', \"Kelli O'Hara\",\n",
       "       'Rana Daggubati', 'Emma Stone', 'Vivica A. Fox', 'Daniel Craig',\n",
       "       'Suriya', 'Adhini', 'Annabelle Lanyon', 'Yeong-su Oh',\n",
       "       \"Predrag 'Miki' Manojlovic\", 'Sachin Khedekar', 'Tae-Hyun Cha',\n",
       "       'Antony Varghese', 'Marina Inoue', 'Urmila Matondkar', 'Jai',\n",
       "       'Viineet Kumar', 'Lacy Marie Meyer', 'Ryan Reynolds',\n",
       "       'Vladimir Garin', 'Logan Lerman', 'Manish Rishi', 'Yilmaz Erdogan',\n",
       "       'Eliane Annie Adalto', 'Vimal', 'T.R. Silambarasan',\n",
       "       'Mete Horozoglu', 'Atharvaa Murali', 'Ethan Hawke', 'Willem Dafoe',\n",
       "       'Tamara Lawrance', 'Saugat Malla', 'Maya Akbar', 'Dev Patel',\n",
       "       'Hiroshi Kamiya', 'Amey Wagh', 'Kimberley Louisa McBeath',\n",
       "       'Jacob Tremblay', 'Joshua McGuire', 'Amy Adams', 'Vallo Kirs',\n",
       "       'Tom Cruise', 'Ashitha', 'Fizuli Caferof', 'Catinca Untaru',\n",
       "       'Cees Geel', 'Bryan Cranston', 'Harrison Ford',\n",
       "       'Pigmalion Dadakaridis', 'Yutaka Aoyama', 'Muhammet Uzuner',\n",
       "       'Fionn Whitehead', 'Master Shams', 'Joseph Vijay', 'Zaira Wasim',\n",
       "       'Om Puri', 'Mamoru Miyano', 'Jan Dieter Schneider',\n",
       "       'Paran Banerjee', 'Doru Ana', 'Birol Ünel', 'Mahiro Takasugi',\n",
       "       'Ivana Pavlakovic', 'Miyoko Shôji', 'Tserendagva Purevdorj',\n",
       "       'Pyotr Mamonov', 'Dave Johns', 'Evgeny Avdeenko',\n",
       "       'Kôichi Yamadera', 'Elizabeth Berrington', 'Ayesha Takia',\n",
       "       'Varun Tej', 'Marc Diraison', 'Levan Doborjginidze', 'Tahar Rahim',\n",
       "       'Sam Neill', 'Lauren Spartano', 'Asser Yassin', 'Kyung-gu Sol',\n",
       "       'Daniel Radcliffe', 'Saber Abar', 'Koki Uchiyama', 'Toddy Walters',\n",
       "       'Jean Dujardin', 'Sakura Tange', 'Masood Akhtar', 'Vardhan Puri',\n",
       "       'Silvia de Satkliff', 'Dhruva Padmakumar', 'Ali Atay',\n",
       "       'Puneeth Rajkumar', 'Isabella Blake-Thomas', 'Brett Driver',\n",
       "       'Charlotte Broom', 'Lorna Tolentino', 'Yash Rohan',\n",
       "       'Jayde Westaby', 'Dileep', 'Ufuk Bayraktar', 'Simoné Pretorius',\n",
       "       'Loris Curci', 'Asae Ohnishi', 'Alexandra Aidini', 'Rahul Bose',\n",
       "       'Janis Amanis', 'Carlo Aquino', 'Ken Watanabe', 'Jet Li',\n",
       "       'Nimra Bucha', 'Vyacheslav Dovzhenko', 'Mahesh Manjrekar',\n",
       "       'Sôichirô Hoshi', 'Bretten Lord', 'Ram', 'Serhiy Detyuk',\n",
       "       'Gastón Pauls', 'Branko Djuric', 'Isam Ahmad Issa',\n",
       "       'Elizabeth Debicki', 'Shiva', 'Robert De Niro', 'Jim Fitzpatrick',\n",
       "       'Javier Cámara', 'Aparajita Adhya', 'Boris Milivojevic',\n",
       "       'Bhoomika Chawla', 'Krrish Chhabria', 'Ghilherme Lobo',\n",
       "       'Yaël Abecassis', 'Raja Goutham', 'Simon Pegg', 'Yûki Kaji',\n",
       "       'Gérard Jugnot', 'Rajasekhar', 'Sean Penn', 'Arya',\n",
       "       'Nilbio Torres', 'Mohammad Amir Naji', 'Roman Griffin Davis',\n",
       "       'Masako Nozawa', 'Yûko Takeuchi', 'Jill Levenberg', 'Yûko Sanpei',\n",
       "       'Riley Yeary', 'Milica Pajic', 'Anamaria Marinca', 'Zheng Xu',\n",
       "       'Maaya Sakamoto', 'Drew Fuller', 'Armie Hammer', 'Gürol Güngör',\n",
       "       'Nirina Zubir', 'Forest Whitaker', 'David Lee Smith',\n",
       "       'Rajeev Anand', 'Suraj Sharma', 'Chris Pine',\n",
       "       'Jean-Louis Trintignant', 'Mayumi Tanaka', 'Gabriel Huian',\n",
       "       'Amoghavarsha', 'Varun Sandesh', 'Eddie Garcia', 'Chethan Kumar',\n",
       "       'Charmila', 'Michel Côté', 'Phil Daniels', 'Ajaykumar',\n",
       "       'Mickey Rourke', 'Sam Rockwell', 'Amarsaikhan Baljinnyam',\n",
       "       'Nikola Rakocevic', 'Anuchit Sapanpong', 'Gyula Balázsi',\n",
       "       'Meda Andreea Victor', 'Jessica Mila', 'Sharlto Copley',\n",
       "       'Amruta Subhash', 'Billy Crudup', 'Satyadev Kancharana',\n",
       "       'Shahid Kapoor', 'Vinay Pathak', 'Kåre Hedebrant',\n",
       "       'Ferdia Walsh-Peelo', 'Stanislav Boklan', 'Jun Fukushima',\n",
       "       'Adewale Akinnuoye-Agbaje', 'Vishwak Sen'], dtype=object)"
      ]
     },
     "execution_count": 24,
     "metadata": {},
     "output_type": "execute_result"
    }
   ],
   "source": [
    "#este comando gera uma lista muito extensa\n",
    "atores.actors.unique()"
   ]
  },
  {
   "cell_type": "code",
   "execution_count": 25,
   "id": "e2f91fd3-f5ab-4d6c-b93e-6bf28d6ead1e",
   "metadata": {
    "tags": []
   },
   "outputs": [],
   "source": [
    "top_10_actor = atores[['actors','avg_vote']].head(10)"
   ]
  },
  {
   "cell_type": "code",
   "execution_count": 26,
   "id": "eaaa9a68-3159-4bf7-9535-038730954887",
   "metadata": {},
   "outputs": [
    {
     "data": {
      "image/png": "[encoded data removed]",
      "text/plain": [
       "<Figure size 432x288 with 1 Axes>"
      ]
     },
     "metadata": {
      "needs_background": "light"
     },
     "output_type": "display_data"
    }
   ],
   "source": [
    "#plot dos top 10 atores de acordo com a média dos votos\n",
    "plot_barh = plt.barh(top_10_actor['actors'], top_10_actor['avg_vote'], color = 'g')\n",
    "plt.title('TOP 10 ATORES')\n",
    "plt.xlabel('Avaliações')\n",
    "plt.ylabel('Atores')\n",
    "plt.show()"
   ]
  },
  {
   "cell_type": "markdown",
   "id": "7547fd30-b59c-465b-9200-b86a2278836c",
   "metadata": {},
   "source": [
    "#### \t1.4)  Listar a intersecção dos filmes obtidos em 1.2 e 1.3 - \n",
    "####    (Para encontrar um perfil de combinação diretores + atores = sucesso do filme) "
   ]
  },
  {
   "cell_type": "markdown",
   "id": "235ec2dc-d32d-41a3-9bd7-cf32ceb5af22",
   "metadata": {},
   "source": [
    "O dataframe gerado já possui as informações associadas entre diretores e atores dos filmes mais bem rankeados "
   ]
  },
  {
   "cell_type": "code",
   "execution_count": 27,
   "id": "646c5150-a3b4-4571-9a0f-c55a40b2eeeb",
   "metadata": {
    "tags": []
   },
   "outputs": [
    {
     "data": {
      "text/html": [
       "<div>\n",
       "<style scoped>\n",
       "    .dataframe tbody tr th:only-of-type {\n",
       "        vertical-align: middle;\n",
       "    }\n",
       "\n",
       "    .dataframe tbody tr th {\n",
       "        vertical-align: top;\n",
       "    }\n",
       "\n",
       "    .dataframe thead th {\n",
       "        text-align: right;\n",
       "    }\n",
       "</style>\n",
       "<table border=\"1\" class=\"dataframe\">\n",
       "  <thead>\n",
       "    <tr style=\"text-align: right;\">\n",
       "      <th></th>\n",
       "      <th>director</th>\n",
       "      <th>actors</th>\n",
       "    </tr>\n",
       "  </thead>\n",
       "  <tbody>\n",
       "    <tr>\n",
       "      <th>0</th>\n",
       "      <td>Msn Surya</td>\n",
       "      <td>Shamna Kasim, Sakshi Chaudhary, Jaya Prada, Av...</td>\n",
       "    </tr>\n",
       "    <tr>\n",
       "      <th>1</th>\n",
       "      <td>Abner Official</td>\n",
       "      <td>Angibell, Gabriel Buitrago, Darwing, Dariana J...</td>\n",
       "    </tr>\n",
       "    <tr>\n",
       "      <th>2</th>\n",
       "      <td>Aalmist Subba</td>\n",
       "      <td>Prashant Baraili, Davina, Pranisha Gahatraj, P...</td>\n",
       "    </tr>\n",
       "    <tr>\n",
       "      <th>3</th>\n",
       "      <td>Sampath Rudra</td>\n",
       "      <td>Bishnu Adhikari, Himanshi Khurana, Aparna Shar...</td>\n",
       "    </tr>\n",
       "    <tr>\n",
       "      <th>4</th>\n",
       "      <td>Basheed S.K.</td>\n",
       "      <td>Mumait Khan, Manisha Koirala, Arjun Sarja</td>\n",
       "    </tr>\n",
       "  </tbody>\n",
       "</table>\n",
       "</div>"
      ],
      "text/plain": [
       "         director                                             actors\n",
       "0       Msn Surya  Shamna Kasim, Sakshi Chaudhary, Jaya Prada, Av...\n",
       "1  Abner Official  Angibell, Gabriel Buitrago, Darwing, Dariana J...\n",
       "2   Aalmist Subba  Prashant Baraili, Davina, Pranisha Gahatraj, P...\n",
       "3   Sampath Rudra  Bishnu Adhikari, Himanshi Khurana, Aparna Shar...\n",
       "4    Basheed S.K.          Mumait Khan, Manisha Koirala, Arjun Sarja"
      ]
     },
     "execution_count": 27,
     "metadata": {},
     "output_type": "execute_result"
    }
   ],
   "source": [
    "top_film[['director', 'actors']].head()"
   ]
  },
  {
   "cell_type": "markdown",
   "id": "704d19a5-2cd6-473e-969f-b29caf3a5701",
   "metadata": {},
   "source": [
    "Porém se essas informações estivessem em datasets diferente, poderia ser feita a intersecção conforme exemplo abaixo:"
   ]
  },
  {
   "cell_type": "code",
   "execution_count": 28,
   "id": "c70549f1-1dd4-46a3-bbd7-b67ba8271288",
   "metadata": {
    "tags": []
   },
   "outputs": [],
   "source": [
    "#df1 = df1[['columnID', 'columnA']]\n",
    "#df2 = df2[['columnID', 'columnB']]\n",
    "#intersection = df1.merge(df2 , on = 'columnID')"
   ]
  },
  {
   "cell_type": "markdown",
   "id": "a011f53b-4771-40c4-92df-bc65ff18e690",
   "metadata": {},
   "source": [
    "###   Desafio: \n",
    "    \n",
    "####    1.5) Faça as análises anteriores considerando alguns gêneros de filmes (Drama,Ação etc) "
   ]
  },
  {
   "cell_type": "code",
   "execution_count": 29,
   "id": "ab58b722-a53a-4707-a66a-4a43dd316f84",
   "metadata": {},
   "outputs": [],
   "source": [
    "#obtendo gêneros mais comuns no dataset\n",
    "genero = top_film['genre'].value_counts() "
   ]
  },
  {
   "cell_type": "code",
   "execution_count": 30,
   "id": "90962ff6-aa69-4fd1-8ae7-4665946648cc",
   "metadata": {},
   "outputs": [],
   "source": [
    "genero = pd.DataFrame(genero)"
   ]
  },
  {
   "cell_type": "code",
   "execution_count": 31,
   "id": "ec4fe65e-00ec-415a-91a6-fb2561982a03",
   "metadata": {
    "tags": []
   },
   "outputs": [],
   "source": [
    "genero.reset_index(inplace=True)"
   ]
  },
  {
   "cell_type": "code",
   "execution_count": 32,
   "id": "7904c979-2e64-4ead-ad3e-b44b5a9bb31f",
   "metadata": {},
   "outputs": [],
   "source": [
    "genero.columns = ['genre', 'count']"
   ]
  },
  {
   "cell_type": "code",
   "execution_count": 33,
   "id": "420c761e-9f42-473b-ae90-660bdd81a134",
   "metadata": {
    "tags": []
   },
   "outputs": [
    {
     "data": {
      "text/html": [
       "<div>\n",
       "<style scoped>\n",
       "    .dataframe tbody tr th:only-of-type {\n",
       "        vertical-align: middle;\n",
       "    }\n",
       "\n",
       "    .dataframe tbody tr th {\n",
       "        vertical-align: top;\n",
       "    }\n",
       "\n",
       "    .dataframe thead th {\n",
       "        text-align: right;\n",
       "    }\n",
       "</style>\n",
       "<table border=\"1\" class=\"dataframe\">\n",
       "  <thead>\n",
       "    <tr style=\"text-align: right;\">\n",
       "      <th></th>\n",
       "      <th>genre</th>\n",
       "      <th>count</th>\n",
       "    </tr>\n",
       "  </thead>\n",
       "  <tbody>\n",
       "    <tr>\n",
       "      <th>0</th>\n",
       "      <td>Drama</td>\n",
       "      <td>194</td>\n",
       "    </tr>\n",
       "    <tr>\n",
       "      <th>1</th>\n",
       "      <td>Comedy, Drama</td>\n",
       "      <td>48</td>\n",
       "    </tr>\n",
       "    <tr>\n",
       "      <th>2</th>\n",
       "      <td>Drama, Romance</td>\n",
       "      <td>36</td>\n",
       "    </tr>\n",
       "  </tbody>\n",
       "</table>\n",
       "</div>"
      ],
      "text/plain": [
       "            genre  count\n",
       "0           Drama    194\n",
       "1   Comedy, Drama     48\n",
       "2  Drama, Romance     36"
      ]
     },
     "execution_count": 33,
     "metadata": {},
     "output_type": "execute_result"
    }
   ],
   "source": [
    "genero.head(3)"
   ]
  },
  {
   "cell_type": "markdown",
   "id": "f0048028-0724-4463-9fe4-f18ac14c6d5e",
   "metadata": {},
   "source": [
    "Cinco gêneros mais comuns no dataset"
   ]
  },
  {
   "cell_type": "code",
   "execution_count": 34,
   "id": "6b6d4036-99fc-4946-b8f9-24dfe0b6aa8d",
   "metadata": {},
   "outputs": [
    {
     "data": {
      "image/png": "[encoded data removed]",
      "text/plain": [
       "<Figure size 432x288 with 1 Axes>"
      ]
     },
     "metadata": {},
     "output_type": "display_data"
    }
   ],
   "source": [
    "pie_chart = plt.pie(genero['count'][0:5], \n",
    "                    labels=genero['genre'][0:5], autopct='%.2f%%')"
   ]
  },
  {
   "cell_type": "markdown",
   "id": "68032d27-b0c7-406c-bdc0-988e2724a395",
   "metadata": {},
   "source": [
    "####    1.6) Proponha uma ponderação que leve em conta n. de votos recebidos por um filme "
   ]
  },
  {
   "cell_type": "code",
   "execution_count": 35,
   "id": "1f78e6c4-22c1-49d9-891e-e77b9e3837d3",
   "metadata": {},
   "outputs": [
    {
     "data": {
      "text/plain": [
       "2241615"
      ]
     },
     "execution_count": 35,
     "metadata": {},
     "output_type": "execute_result"
    }
   ],
   "source": [
    "top_film.votes.max()"
   ]
  },
  {
   "cell_type": "code",
   "execution_count": 36,
   "id": "467d97cd-0625-43e7-99fc-4e93d60ef56c",
   "metadata": {},
   "outputs": [
    {
     "data": {
      "text/plain": [
       "100"
      ]
     },
     "execution_count": 36,
     "metadata": {},
     "output_type": "execute_result"
    }
   ],
   "source": [
    "top_film.votes.min()"
   ]
  },
  {
   "cell_type": "code",
   "execution_count": 42,
   "id": "4251e77d-51ac-4a42-b73d-1bda223d4e7f",
   "metadata": {},
   "outputs": [],
   "source": [
    "bins = np.linspace(min(df[\"votes\"]), max(df[\"votes\"]), 4)\n",
    "labels = ['pouco votado', 'mediano', 'muito votado']\n",
    "top_film['binned'] = pd.cut(top_film['votes'], bins=bins, labels=labels)"
   ]
  },
  {
   "cell_type": "code",
   "execution_count": 59,
   "id": "9f6aae19-25f7-4866-b709-026abc464e4c",
   "metadata": {},
   "outputs": [
    {
     "data": {
      "text/plain": [
       "array([956,  36,   4], dtype=int64)"
      ]
     },
     "execution_count": 59,
     "metadata": {},
     "output_type": "execute_result"
    }
   ],
   "source": [
    "import numpy as np\n",
    "a = np.array(top_film[\"binned\"].value_counts())\n",
    "a"
   ]
  },
  {
   "cell_type": "code",
   "execution_count": 66,
   "id": "4321fdd0-4196-4438-867c-94d38f7857ba",
   "metadata": {},
   "outputs": [
    {
     "data": {
      "image/png": "[encoded data removed]",
      "text/plain": [
       "<Figure size 432x288 with 1 Axes>"
      ]
     },
     "metadata": {},
     "output_type": "display_data"
    }
   ],
   "source": [
    "import matplotlib.pyplot as plt\n",
    "explode_slices = [ 0, 0, 1] \n",
    "pie_chart = plt.pie(a, labels=labels, explode = explode_slices, autopct='%.2f%%')"
   ]
  },
  {
   "cell_type": "code",
   "execution_count": 43,
   "id": "8c2ce6b7-1bee-42b1-b5b2-ebffa7cf1e67",
   "metadata": {},
   "outputs": [],
   "source": [
    "binned = top_film.groupby(by=['binned'])['title'].apply(list)"
   ]
  },
  {
   "cell_type": "code",
   "execution_count": 44,
   "id": "c96c59b2-03da-493b-94e4-cd054b20a638",
   "metadata": {},
   "outputs": [
    {
     "data": {
      "text/plain": [
       "['Suvarna Sundari',\n",
       " 'Lejos de Casa pelicula Venezolana',\n",
       " 'Jeeudo',\n",
       " 'Ek',\n",
       " 'Notuku Potu',\n",
       " 'Hopeful Notes',\n",
       " 'Meka Suri',\n",
       " 'Vaarthakal Ithuvare',\n",
       " 'The Moving on Phase',\n",
       " 'Isha']"
      ]
     },
     "execution_count": 44,
     "metadata": {},
     "output_type": "execute_result"
    }
   ],
   "source": [
    "binned['pouco votado'][0:10]"
   ]
  },
  {
   "cell_type": "code",
   "execution_count": 45,
   "id": "61779ac6-e6e7-4e5b-a840-b7aea454185d",
   "metadata": {},
   "outputs": [
    {
     "data": {
      "text/plain": [
       "['Il Signore degli Anelli - Le due torri',\n",
       " 'Interstellar',\n",
       " 'Il gladiatore',\n",
       " 'The Prestige',\n",
       " 'The Departed - Il bene e il male',\n",
       " 'Joker',\n",
       " 'Avengers: Infinity War',\n",
       " 'Avengers: Endgame',\n",
       " 'WALL·E',\n",
       " 'Memento']"
      ]
     },
     "execution_count": 45,
     "metadata": {},
     "output_type": "execute_result"
    }
   ],
   "source": [
    "binned['mediano'][0:10]"
   ]
  },
  {
   "cell_type": "code",
   "execution_count": 46,
   "id": "9ee23efc-de11-4de6-b22e-77edf7420995",
   "metadata": {},
   "outputs": [
    {
     "data": {
      "text/plain": [
       "['Il cavaliere oscuro',\n",
       " 'Il Signore degli Anelli - Il ritorno del re',\n",
       " 'Inception',\n",
       " \"Il Signore degli Anelli - La compagnia dell'Anello\"]"
      ]
     },
     "execution_count": 46,
     "metadata": {},
     "output_type": "execute_result"
    }
   ],
   "source": [
    "binned['muito votado'][0:10]"
   ]
  }
 ],
 "metadata": {
  "kernelspec": {
   "display_name": "Python 3",
   "language": "python",
   "name": "python3"
  },
  "language_info": {
   "codemirror_mode": {
    "name": "ipython",
    "version": 3
   },
   "file_extension": ".py",
   "mimetype": "text/x-python",
   "name": "python",
   "nbconvert_exporter": "python",
   "pygments_lexer": "ipython3",
   "version": "3.8.8"
  }
 },
 "nbformat": 4,
 "nbformat_minor": 5
}
