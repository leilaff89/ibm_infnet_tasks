{
 "cells": [
  {
   "cell_type": "markdown",
   "id": "63dbdb2d-31cc-467d-a396-d23e026b9b4a",
   "metadata": {},
   "source": [
    "# Multilayer Perceptron to classify home appliances classes"
   ]
  },
  {
   "cell_type": "markdown",
   "id": "f8d86476-0878-4dbb-8f5f-429af1295ce4",
   "metadata": {
    "tags": []
   },
   "source": [
    "#### Importing libraries"
   ]
  },
  {
   "cell_type": "code",
   "execution_count": 52,
   "id": "292113c5-1d40-48bb-b63e-136acbf05287",
   "metadata": {},
   "outputs": [],
   "source": [
    "import pandas as pd\n",
    "import numpy as np\n",
    "import matplotlib.pyplot as plt\n",
    "import seaborn as sns\n",
    "#---------------------------------------------------\n",
    "\n",
    "from sklearn.preprocessing import StandardScaler\n",
    "from sklearn.model_selection import train_test_split\n",
    "from sklearn.neural_network import MLPClassifier\n",
    "from sklearn.model_selection import GridSearchCV\n",
    "from sklearn.decomposition import PCA\n",
    "from sklearn import metrics\n",
    "from sklearn.metrics import confusion_matrix\n",
    "from sklearn.metrics import classification_report\n",
    "#---------------------------------------------------\n",
    "\n",
    "import warnings\n",
    "warnings.filterwarnings(\"ignore\")"
   ]
  },
  {
   "cell_type": "markdown",
   "id": "00e3c682-3ffd-4509-ada0-6d9e2f065743",
   "metadata": {},
   "source": [
    "#### Reading the data with pandas"
   ]
  },
  {
   "cell_type": "code",
   "execution_count": 53,
   "id": "f29890e5-94c1-4a4b-85e7-1a2d12b98b55",
   "metadata": {},
   "outputs": [],
   "source": [
    "df = pd.read_csv('db.csv')"
   ]
  },
  {
   "cell_type": "code",
   "execution_count": 54,
   "id": "e4db532a-37a0-4320-89f5-5d3e96684f0d",
   "metadata": {},
   "outputs": [
    {
     "data": {
      "text/html": [
       "<div>\n",
       "<style scoped>\n",
       "    .dataframe tbody tr th:only-of-type {\n",
       "        vertical-align: middle;\n",
       "    }\n",
       "\n",
       "    .dataframe tbody tr th {\n",
       "        vertical-align: top;\n",
       "    }\n",
       "\n",
       "    .dataframe thead th {\n",
       "        text-align: right;\n",
       "    }\n",
       "</style>\n",
       "<table border=\"1\" class=\"dataframe\">\n",
       "  <thead>\n",
       "    <tr style=\"text-align: right;\">\n",
       "      <th></th>\n",
       "      <th>t0</th>\n",
       "      <th>t1</th>\n",
       "      <th>t2</th>\n",
       "      <th>t3</th>\n",
       "      <th>t4</th>\n",
       "      <th>t5</th>\n",
       "      <th>t6</th>\n",
       "      <th>t7</th>\n",
       "      <th>t8</th>\n",
       "      <th>t9</th>\n",
       "      <th>...</th>\n",
       "      <th>t191</th>\n",
       "      <th>t192</th>\n",
       "      <th>t193</th>\n",
       "      <th>t194</th>\n",
       "      <th>t195</th>\n",
       "      <th>t196</th>\n",
       "      <th>t197</th>\n",
       "      <th>t198</th>\n",
       "      <th>t199</th>\n",
       "      <th>Classes</th>\n",
       "    </tr>\n",
       "  </thead>\n",
       "  <tbody>\n",
       "    <tr>\n",
       "      <th>0</th>\n",
       "      <td>24.00</td>\n",
       "      <td>24.00</td>\n",
       "      <td>23.00</td>\n",
       "      <td>25.00</td>\n",
       "      <td>24.00</td>\n",
       "      <td>25.00</td>\n",
       "      <td>24.00</td>\n",
       "      <td>24.00</td>\n",
       "      <td>22.00</td>\n",
       "      <td>25.00</td>\n",
       "      <td>...</td>\n",
       "      <td>1.00</td>\n",
       "      <td>-1.00</td>\n",
       "      <td>1.00</td>\n",
       "      <td>-1.00</td>\n",
       "      <td>1.00</td>\n",
       "      <td>0.00</td>\n",
       "      <td>1.00</td>\n",
       "      <td>0.00</td>\n",
       "      <td>0.00</td>\n",
       "      <td>1</td>\n",
       "    </tr>\n",
       "    <tr>\n",
       "      <th>1</th>\n",
       "      <td>23.00</td>\n",
       "      <td>23.00</td>\n",
       "      <td>22.00</td>\n",
       "      <td>21.00</td>\n",
       "      <td>21.00</td>\n",
       "      <td>22.00</td>\n",
       "      <td>23.00</td>\n",
       "      <td>23.00</td>\n",
       "      <td>22.00</td>\n",
       "      <td>21.00</td>\n",
       "      <td>...</td>\n",
       "      <td>-1.00</td>\n",
       "      <td>1.00</td>\n",
       "      <td>0.00</td>\n",
       "      <td>1.00</td>\n",
       "      <td>-1.00</td>\n",
       "      <td>0.00</td>\n",
       "      <td>-1.00</td>\n",
       "      <td>1.00</td>\n",
       "      <td>0.00</td>\n",
       "      <td>1</td>\n",
       "    </tr>\n",
       "    <tr>\n",
       "      <th>2</th>\n",
       "      <td>-0.55</td>\n",
       "      <td>-0.55</td>\n",
       "      <td>-0.55</td>\n",
       "      <td>3.45</td>\n",
       "      <td>13.45</td>\n",
       "      <td>11.45</td>\n",
       "      <td>18.45</td>\n",
       "      <td>18.45</td>\n",
       "      <td>20.45</td>\n",
       "      <td>20.45</td>\n",
       "      <td>...</td>\n",
       "      <td>-0.55</td>\n",
       "      <td>0.45</td>\n",
       "      <td>-0.55</td>\n",
       "      <td>0.45</td>\n",
       "      <td>-0.55</td>\n",
       "      <td>0.45</td>\n",
       "      <td>-0.55</td>\n",
       "      <td>0.45</td>\n",
       "      <td>-0.55</td>\n",
       "      <td>1</td>\n",
       "    </tr>\n",
       "  </tbody>\n",
       "</table>\n",
       "<p>3 rows × 201 columns</p>\n",
       "</div>"
      ],
      "text/plain": [
       "      t0     t1     t2     t3     t4     t5     t6     t7     t8     t9  ...  \\\n",
       "0  24.00  24.00  23.00  25.00  24.00  25.00  24.00  24.00  22.00  25.00  ...   \n",
       "1  23.00  23.00  22.00  21.00  21.00  22.00  23.00  23.00  22.00  21.00  ...   \n",
       "2  -0.55  -0.55  -0.55   3.45  13.45  11.45  18.45  18.45  20.45  20.45  ...   \n",
       "\n",
       "   t191  t192  t193  t194  t195  t196  t197  t198  t199  Classes  \n",
       "0  1.00 -1.00  1.00 -1.00  1.00  0.00  1.00  0.00  0.00        1  \n",
       "1 -1.00  1.00  0.00  1.00 -1.00  0.00 -1.00  1.00  0.00        1  \n",
       "2 -0.55  0.45 -0.55  0.45 -0.55  0.45 -0.55  0.45 -0.55        1  \n",
       "\n",
       "[3 rows x 201 columns]"
      ]
     },
     "execution_count": 54,
     "metadata": {},
     "output_type": "execute_result"
    }
   ],
   "source": [
    "df.head(3)"
   ]
  },
  {
   "cell_type": "markdown",
   "id": "948b9c6e-f1a4-4462-af8e-c82214281d6e",
   "metadata": {},
   "source": [
    "#### Data info"
   ]
  },
  {
   "cell_type": "code",
   "execution_count": 55,
   "id": "66af67ca-cf51-49ef-ac04-1fda5a4badcc",
   "metadata": {},
   "outputs": [
    {
     "name": "stdout",
     "output_type": "stream",
     "text": [
      "<class 'pandas.core.frame.DataFrame'>\n",
      "RangeIndex: 100 entries, 0 to 99\n",
      "Columns: 201 entries, t0 to Classes\n",
      "dtypes: float64(200), int64(1)\n",
      "memory usage: 157.2 KB\n"
     ]
    }
   ],
   "source": [
    "df.info()"
   ]
  },
  {
   "cell_type": "markdown",
   "id": "7d15095e-dd20-4967-97ed-9c69764d9aa8",
   "metadata": {},
   "source": [
    "#### Data describe"
   ]
  },
  {
   "cell_type": "code",
   "execution_count": 56,
   "id": "2a127955-5315-4f2e-81dd-e9572c2dfa4e",
   "metadata": {},
   "outputs": [
    {
     "data": {
      "text/html": [
       "<div>\n",
       "<style scoped>\n",
       "    .dataframe tbody tr th:only-of-type {\n",
       "        vertical-align: middle;\n",
       "    }\n",
       "\n",
       "    .dataframe tbody tr th {\n",
       "        vertical-align: top;\n",
       "    }\n",
       "\n",
       "    .dataframe thead th {\n",
       "        text-align: right;\n",
       "    }\n",
       "</style>\n",
       "<table border=\"1\" class=\"dataframe\">\n",
       "  <thead>\n",
       "    <tr style=\"text-align: right;\">\n",
       "      <th></th>\n",
       "      <th>t0</th>\n",
       "      <th>t1</th>\n",
       "      <th>t2</th>\n",
       "      <th>t3</th>\n",
       "      <th>t4</th>\n",
       "      <th>t5</th>\n",
       "      <th>t6</th>\n",
       "      <th>t7</th>\n",
       "      <th>t8</th>\n",
       "      <th>t9</th>\n",
       "      <th>...</th>\n",
       "      <th>t191</th>\n",
       "      <th>t192</th>\n",
       "      <th>t193</th>\n",
       "      <th>t194</th>\n",
       "      <th>t195</th>\n",
       "      <th>t196</th>\n",
       "      <th>t197</th>\n",
       "      <th>t198</th>\n",
       "      <th>t199</th>\n",
       "      <th>Classes</th>\n",
       "    </tr>\n",
       "  </thead>\n",
       "  <tbody>\n",
       "    <tr>\n",
       "      <th>count</th>\n",
       "      <td>100.000000</td>\n",
       "      <td>100.000000</td>\n",
       "      <td>100.000000</td>\n",
       "      <td>100.000000</td>\n",
       "      <td>100.000000</td>\n",
       "      <td>100.000000</td>\n",
       "      <td>100.000000</td>\n",
       "      <td>100.000000</td>\n",
       "      <td>100.000000</td>\n",
       "      <td>100.000000</td>\n",
       "      <td>...</td>\n",
       "      <td>100.000000</td>\n",
       "      <td>100.00000</td>\n",
       "      <td>100.000000</td>\n",
       "      <td>100.000000</td>\n",
       "      <td>100.000000</td>\n",
       "      <td>100.000000</td>\n",
       "      <td>100.00000</td>\n",
       "      <td>100.000000</td>\n",
       "      <td>100.000000</td>\n",
       "      <td>100.000000</td>\n",
       "    </tr>\n",
       "    <tr>\n",
       "      <th>mean</th>\n",
       "      <td>11.114000</td>\n",
       "      <td>7.974000</td>\n",
       "      <td>8.154000</td>\n",
       "      <td>7.334000</td>\n",
       "      <td>7.374000</td>\n",
       "      <td>6.834000</td>\n",
       "      <td>7.134000</td>\n",
       "      <td>6.874000</td>\n",
       "      <td>7.054000</td>\n",
       "      <td>6.594000</td>\n",
       "      <td>...</td>\n",
       "      <td>0.114000</td>\n",
       "      <td>-0.14600</td>\n",
       "      <td>-0.146000</td>\n",
       "      <td>0.154000</td>\n",
       "      <td>0.014000</td>\n",
       "      <td>0.374000</td>\n",
       "      <td>-0.20600</td>\n",
       "      <td>-0.146000</td>\n",
       "      <td>-0.186000</td>\n",
       "      <td>3.140000</td>\n",
       "    </tr>\n",
       "    <tr>\n",
       "      <th>std</th>\n",
       "      <td>10.187807</td>\n",
       "      <td>9.012776</td>\n",
       "      <td>8.899937</td>\n",
       "      <td>8.958318</td>\n",
       "      <td>8.458134</td>\n",
       "      <td>8.301816</td>\n",
       "      <td>8.230796</td>\n",
       "      <td>8.317599</td>\n",
       "      <td>8.269182</td>\n",
       "      <td>7.937996</td>\n",
       "      <td>...</td>\n",
       "      <td>2.253057</td>\n",
       "      <td>0.86292</td>\n",
       "      <td>0.829497</td>\n",
       "      <td>1.009442</td>\n",
       "      <td>1.114779</td>\n",
       "      <td>0.969548</td>\n",
       "      <td>0.78757</td>\n",
       "      <td>1.046004</td>\n",
       "      <td>0.838411</td>\n",
       "      <td>1.608186</td>\n",
       "    </tr>\n",
       "    <tr>\n",
       "      <th>min</th>\n",
       "      <td>-10.150000</td>\n",
       "      <td>-6.300000</td>\n",
       "      <td>-6.300000</td>\n",
       "      <td>-6.300000</td>\n",
       "      <td>-5.300000</td>\n",
       "      <td>-3.500000</td>\n",
       "      <td>-4.300000</td>\n",
       "      <td>-6.300000</td>\n",
       "      <td>-6.300000</td>\n",
       "      <td>-4.300000</td>\n",
       "      <td>...</td>\n",
       "      <td>-2.500000</td>\n",
       "      <td>-2.40000</td>\n",
       "      <td>-2.050000</td>\n",
       "      <td>-2.500000</td>\n",
       "      <td>-2.150000</td>\n",
       "      <td>-2.500000</td>\n",
       "      <td>-2.30000</td>\n",
       "      <td>-2.500000</td>\n",
       "      <td>-2.050000</td>\n",
       "      <td>1.000000</td>\n",
       "    </tr>\n",
       "    <tr>\n",
       "      <th>25%</th>\n",
       "      <td>0.650000</td>\n",
       "      <td>0.450000</td>\n",
       "      <td>0.700000</td>\n",
       "      <td>0.450000</td>\n",
       "      <td>0.650000</td>\n",
       "      <td>0.450000</td>\n",
       "      <td>0.600000</td>\n",
       "      <td>0.850000</td>\n",
       "      <td>0.650000</td>\n",
       "      <td>0.650000</td>\n",
       "      <td>...</td>\n",
       "      <td>-0.700000</td>\n",
       "      <td>-0.75000</td>\n",
       "      <td>-0.700000</td>\n",
       "      <td>-0.550000</td>\n",
       "      <td>-0.800000</td>\n",
       "      <td>-0.100000</td>\n",
       "      <td>-0.70000</td>\n",
       "      <td>-0.750000</td>\n",
       "      <td>-0.700000</td>\n",
       "      <td>2.000000</td>\n",
       "    </tr>\n",
       "    <tr>\n",
       "      <th>50%</th>\n",
       "      <td>11.925000</td>\n",
       "      <td>5.575000</td>\n",
       "      <td>4.950000</td>\n",
       "      <td>4.300000</td>\n",
       "      <td>3.600000</td>\n",
       "      <td>3.050000</td>\n",
       "      <td>3.300000</td>\n",
       "      <td>3.325000</td>\n",
       "      <td>3.225000</td>\n",
       "      <td>3.850000</td>\n",
       "      <td>...</td>\n",
       "      <td>-0.300000</td>\n",
       "      <td>-0.07500</td>\n",
       "      <td>-0.200000</td>\n",
       "      <td>0.275000</td>\n",
       "      <td>-0.075000</td>\n",
       "      <td>0.400000</td>\n",
       "      <td>-0.32500</td>\n",
       "      <td>-0.025000</td>\n",
       "      <td>-0.275000</td>\n",
       "      <td>3.000000</td>\n",
       "    </tr>\n",
       "    <tr>\n",
       "      <th>75%</th>\n",
       "      <td>21.250000</td>\n",
       "      <td>14.900000</td>\n",
       "      <td>17.450000</td>\n",
       "      <td>16.950000</td>\n",
       "      <td>14.900000</td>\n",
       "      <td>13.000000</td>\n",
       "      <td>14.000000</td>\n",
       "      <td>13.000000</td>\n",
       "      <td>11.950000</td>\n",
       "      <td>10.950000</td>\n",
       "      <td>...</td>\n",
       "      <td>0.300000</td>\n",
       "      <td>0.45000</td>\n",
       "      <td>0.550000</td>\n",
       "      <td>0.700000</td>\n",
       "      <td>0.700000</td>\n",
       "      <td>0.850000</td>\n",
       "      <td>0.35000</td>\n",
       "      <td>0.450000</td>\n",
       "      <td>0.250000</td>\n",
       "      <td>4.000000</td>\n",
       "    </tr>\n",
       "    <tr>\n",
       "      <th>max</th>\n",
       "      <td>25.850000</td>\n",
       "      <td>25.450000</td>\n",
       "      <td>26.200000</td>\n",
       "      <td>25.200000</td>\n",
       "      <td>25.200000</td>\n",
       "      <td>25.000000</td>\n",
       "      <td>24.200000</td>\n",
       "      <td>25.200000</td>\n",
       "      <td>26.200000</td>\n",
       "      <td>25.200000</td>\n",
       "      <td>...</td>\n",
       "      <td>13.550000</td>\n",
       "      <td>1.70000</td>\n",
       "      <td>1.500000</td>\n",
       "      <td>2.650000</td>\n",
       "      <td>3.500000</td>\n",
       "      <td>3.800000</td>\n",
       "      <td>1.35000</td>\n",
       "      <td>1.850000</td>\n",
       "      <td>2.500000</td>\n",
       "      <td>7.000000</td>\n",
       "    </tr>\n",
       "  </tbody>\n",
       "</table>\n",
       "<p>8 rows × 201 columns</p>\n",
       "</div>"
      ],
      "text/plain": [
       "               t0          t1          t2          t3          t4          t5  \\\n",
       "count  100.000000  100.000000  100.000000  100.000000  100.000000  100.000000   \n",
       "mean    11.114000    7.974000    8.154000    7.334000    7.374000    6.834000   \n",
       "std     10.187807    9.012776    8.899937    8.958318    8.458134    8.301816   \n",
       "min    -10.150000   -6.300000   -6.300000   -6.300000   -5.300000   -3.500000   \n",
       "25%      0.650000    0.450000    0.700000    0.450000    0.650000    0.450000   \n",
       "50%     11.925000    5.575000    4.950000    4.300000    3.600000    3.050000   \n",
       "75%     21.250000   14.900000   17.450000   16.950000   14.900000   13.000000   \n",
       "max     25.850000   25.450000   26.200000   25.200000   25.200000   25.000000   \n",
       "\n",
       "               t6          t7          t8          t9  ...        t191  \\\n",
       "count  100.000000  100.000000  100.000000  100.000000  ...  100.000000   \n",
       "mean     7.134000    6.874000    7.054000    6.594000  ...    0.114000   \n",
       "std      8.230796    8.317599    8.269182    7.937996  ...    2.253057   \n",
       "min     -4.300000   -6.300000   -6.300000   -4.300000  ...   -2.500000   \n",
       "25%      0.600000    0.850000    0.650000    0.650000  ...   -0.700000   \n",
       "50%      3.300000    3.325000    3.225000    3.850000  ...   -0.300000   \n",
       "75%     14.000000   13.000000   11.950000   10.950000  ...    0.300000   \n",
       "max     24.200000   25.200000   26.200000   25.200000  ...   13.550000   \n",
       "\n",
       "            t192        t193        t194        t195        t196       t197  \\\n",
       "count  100.00000  100.000000  100.000000  100.000000  100.000000  100.00000   \n",
       "mean    -0.14600   -0.146000    0.154000    0.014000    0.374000   -0.20600   \n",
       "std      0.86292    0.829497    1.009442    1.114779    0.969548    0.78757   \n",
       "min     -2.40000   -2.050000   -2.500000   -2.150000   -2.500000   -2.30000   \n",
       "25%     -0.75000   -0.700000   -0.550000   -0.800000   -0.100000   -0.70000   \n",
       "50%     -0.07500   -0.200000    0.275000   -0.075000    0.400000   -0.32500   \n",
       "75%      0.45000    0.550000    0.700000    0.700000    0.850000    0.35000   \n",
       "max      1.70000    1.500000    2.650000    3.500000    3.800000    1.35000   \n",
       "\n",
       "             t198        t199     Classes  \n",
       "count  100.000000  100.000000  100.000000  \n",
       "mean    -0.146000   -0.186000    3.140000  \n",
       "std      1.046004    0.838411    1.608186  \n",
       "min     -2.500000   -2.050000    1.000000  \n",
       "25%     -0.750000   -0.700000    2.000000  \n",
       "50%     -0.025000   -0.275000    3.000000  \n",
       "75%      0.450000    0.250000    4.000000  \n",
       "max      1.850000    2.500000    7.000000  \n",
       "\n",
       "[8 rows x 201 columns]"
      ]
     },
     "execution_count": 56,
     "metadata": {},
     "output_type": "execute_result"
    }
   ],
   "source": [
    "df.describe()"
   ]
  },
  {
   "cell_type": "markdown",
   "id": "777eb822-2f12-4f2d-9aed-70ebc620e0ee",
   "metadata": {},
   "source": [
    "#### Counting missing values"
   ]
  },
  {
   "cell_type": "code",
   "execution_count": 57,
   "id": "4f4340c3-184d-4a88-bb19-384431691e91",
   "metadata": {},
   "outputs": [
    {
     "data": {
      "text/plain": [
       "t0         0\n",
       "t1         0\n",
       "t2         0\n",
       "t3         0\n",
       "t4         0\n",
       "          ..\n",
       "t196       0\n",
       "t197       0\n",
       "t198       0\n",
       "t199       0\n",
       "Classes    0\n",
       "Length: 201, dtype: int64"
      ]
     },
     "execution_count": 57,
     "metadata": {},
     "output_type": "execute_result"
    }
   ],
   "source": [
    "df.isnull().sum()"
   ]
  },
  {
   "cell_type": "markdown",
   "id": "ca6e4505-d62b-47e6-8152-a420b3b21558",
   "metadata": {},
   "source": [
    "#### Counting items per classes"
   ]
  },
  {
   "cell_type": "code",
   "execution_count": 58,
   "id": "bec4607b-ec30-4893-b5a8-910b1845486d",
   "metadata": {},
   "outputs": [
    {
     "data": {
      "text/html": [
       "<div>\n",
       "<style scoped>\n",
       "    .dataframe tbody tr th:only-of-type {\n",
       "        vertical-align: middle;\n",
       "    }\n",
       "\n",
       "    .dataframe tbody tr th {\n",
       "        vertical-align: top;\n",
       "    }\n",
       "\n",
       "    .dataframe thead th {\n",
       "        text-align: right;\n",
       "    }\n",
       "</style>\n",
       "<table border=\"1\" class=\"dataframe\">\n",
       "  <thead>\n",
       "    <tr style=\"text-align: right;\">\n",
       "      <th></th>\n",
       "      <th>t0</th>\n",
       "    </tr>\n",
       "    <tr>\n",
       "      <th>Classes</th>\n",
       "      <th></th>\n",
       "    </tr>\n",
       "  </thead>\n",
       "  <tbody>\n",
       "    <tr>\n",
       "      <th>1</th>\n",
       "      <td>16</td>\n",
       "    </tr>\n",
       "    <tr>\n",
       "      <th>2</th>\n",
       "      <td>22</td>\n",
       "    </tr>\n",
       "    <tr>\n",
       "      <th>3</th>\n",
       "      <td>30</td>\n",
       "    </tr>\n",
       "    <tr>\n",
       "      <th>4</th>\n",
       "      <td>8</td>\n",
       "    </tr>\n",
       "    <tr>\n",
       "      <th>5</th>\n",
       "      <td>16</td>\n",
       "    </tr>\n",
       "    <tr>\n",
       "      <th>6</th>\n",
       "      <td>4</td>\n",
       "    </tr>\n",
       "    <tr>\n",
       "      <th>7</th>\n",
       "      <td>4</td>\n",
       "    </tr>\n",
       "  </tbody>\n",
       "</table>\n",
       "</div>"
      ],
      "text/plain": [
       "         t0\n",
       "Classes    \n",
       "1        16\n",
       "2        22\n",
       "3        30\n",
       "4         8\n",
       "5        16\n",
       "6         4\n",
       "7         4"
      ]
     },
     "execution_count": 58,
     "metadata": {},
     "output_type": "execute_result"
    }
   ],
   "source": [
    "df[['Classes','t0']].groupby('Classes').count()"
   ]
  },
  {
   "cell_type": "markdown",
   "id": "0ee03408-1607-4600-99fa-5e3128699892",
   "metadata": {},
   "source": [
    "#### Plotting specific item"
   ]
  },
  {
   "cell_type": "code",
   "execution_count": 59,
   "id": "8e275427-4f6a-4a93-903b-825fca5c9cfa",
   "metadata": {
    "tags": []
   },
   "outputs": [
    {
     "data": {
      "text/plain": [
       "[<matplotlib.lines.Line2D at 0x2ba79f539a0>]"
      ]
     },
     "execution_count": 59,
     "metadata": {},
     "output_type": "execute_result"
    },
    {
     "data": {
      "image/png": "[encoded data removed]",
      "text/plain": [
       "<Figure size 432x288 with 1 Axes>"
      ]
     },
     "metadata": {
      "needs_background": "light"
     },
     "output_type": "display_data"
    }
   ],
   "source": [
    "plt.plot(df.values[0])"
   ]
  },
  {
   "cell_type": "markdown",
   "id": "67d423f1-8bd6-48cd-aa66-ca9adb91fabf",
   "metadata": {},
   "source": [
    "#### Separating data to obtain the targets "
   ]
  },
  {
   "cell_type": "code",
   "execution_count": 60,
   "id": "937d7791-974f-4290-b797-6846501497a3",
   "metadata": {},
   "outputs": [],
   "source": [
    "X = df.iloc[:,0:200]\n"
   ]
  },
  {
   "cell_type": "code",
   "execution_count": 61,
   "id": "bdcda52b-3da7-44b5-ba7f-1ba189a85fc4",
   "metadata": {},
   "outputs": [],
   "source": [
    "y = df.Classes.values"
   ]
  },
  {
   "cell_type": "markdown",
   "id": "e8f377c1-09e4-47b2-84eb-4eadb163d003",
   "metadata": {},
   "source": [
    "#### Normalizing the data using StandardScaler"
   ]
  },
  {
   "cell_type": "code",
   "execution_count": 62,
   "id": "e54c5a6e-f0d9-4d04-9405-1048b496a26c",
   "metadata": {},
   "outputs": [],
   "source": [
    "scaler = StandardScaler()\n",
    "X = scaler.fit_transform(X)"
   ]
  },
  {
   "cell_type": "markdown",
   "id": "b3aa9b51-482c-45ce-b7fc-0cb2c878e328",
   "metadata": {},
   "source": [
    "#### Separating train and test data"
   ]
  },
  {
   "cell_type": "code",
   "execution_count": 63,
   "id": "90fa663f-3938-4e8f-ac71-74d1aa1bcf55",
   "metadata": {},
   "outputs": [],
   "source": [
    "X_train, X_test, y_train, y_test = train_test_split(X, y, test_size = 0.2, random_state = 20)"
   ]
  },
  {
   "cell_type": "markdown",
   "id": "1054ceb1-1275-42cb-a155-2c33f229d8de",
   "metadata": {},
   "source": [
    "#### Applying MLP Classifier"
   ]
  },
  {
   "cell_type": "code",
   "execution_count": 72,
   "id": "d60eb150-d48b-4604-8e10-58279c4e11b6",
   "metadata": {},
   "outputs": [],
   "source": [
    "mlp = MLPClassifier(random_state=1, max_iter=100, hidden_layer_sizes=(1000))\n",
    "\n",
    "mlp.fit(X_train,y_train)\n",
    "predict_train = mlp.predict(X_train)\n",
    "predict_test = mlp.predict(X_test)"
   ]
  },
  {
   "cell_type": "markdown",
   "id": "a28314d4-1978-4857-8c69-32f470740d58",
   "metadata": {},
   "source": [
    "#### Log Scores\n",
    "\n",
    "learning_rate_init=0.001\n",
    "\n",
    "learning_rate_init=0.01\n",
    "\n",
    "hidden_layer_sizes=(100)\n",
    "\n",
    "hidden_layer_sizes=(500)\n",
    "\n",
    "#### All these changes return the same score (0.9)"
   ]
  },
  {
   "cell_type": "code",
   "execution_count": 73,
   "id": "5aab0b52-9c25-4dd2-8cdc-6311e9fcd272",
   "metadata": {},
   "outputs": [
    {
     "data": {
      "text/plain": [
       "0.9"
      ]
     },
     "execution_count": 73,
     "metadata": {},
     "output_type": "execute_result"
    }
   ],
   "source": [
    "mlp.score(X_test, y_test)"
   ]
  },
  {
   "cell_type": "markdown",
   "id": "3c2784b9-82aa-459d-9d0f-7d8cc2c86c5f",
   "metadata": {},
   "source": [
    "#### Applying GridSearchCV to find the best parameters, including only the solver and activation"
   ]
  },
  {
   "cell_type": "code",
   "execution_count": 15,
   "id": "0502a921-9e4f-4e18-8fd0-2356fb53abda",
   "metadata": {},
   "outputs": [
    {
     "name": "stdout",
     "output_type": "stream",
     "text": [
      "GridSearch():\n",
      "\n",
      "For the application of the Grid Search there are 12 combinations\n",
      "Best Parameters:  {'activation': 'logistic', 'solver': 'lbfgs'}\n",
      "Accuracy CV: 0.8875\n",
      "Test accuracy: 0.900\n"
     ]
    }
   ],
   "source": [
    "grid = {'solver': ['lbfgs', 'sgd', 'adam'], 'activation': ['identity', 'logistic', 'tanh', 'relu']}\n",
    "clf = GridSearchCV(MLPClassifier(random_state=1, max_iter=100, hidden_layer_sizes=(100)), grid)\n",
    "\n",
    "clf.fit(X_train, y_train)\n",
    "\n",
    "print(\"GridSearch():\\n\")\n",
    "comb = 1\n",
    "for x in grid.values():\n",
    "    comb *= len(x)\n",
    "print('For the application of the Grid Search there are {} combinations'.format(comb))\n",
    "print(\"Best Parameters: \",clf.best_params_)\n",
    "best_config = clf.best_params_\n",
    "print(\"Accuracy CV:\",clf.best_score_)\n",
    "ppn_cv = clf.best_estimator_\n",
    "print('Test accuracy: %.3f' % clf.score(X_test, y_test))"
   ]
  },
  {
   "cell_type": "markdown",
   "id": "8335559b-f612-4f77-a8fd-a8cee9d0dae3",
   "metadata": {},
   "source": [
    "#### Applying MLP Classifier using the parameters founded in GridSearchCV"
   ]
  },
  {
   "cell_type": "code",
   "execution_count": 16,
   "id": "9431b2e8-f7b6-4afc-a227-c5b3d9346886",
   "metadata": {},
   "outputs": [],
   "source": [
    "mlp_g = MLPClassifier(random_state=1, max_iter=100, hidden_layer_sizes=(100), **best_config)\n",
    "\n",
    "mlp_g.fit(X_train,y_train)\n",
    "predict_train = mlp_g.predict(X_train)\n",
    "predict_test = mlp_g.predict(X_test)"
   ]
  },
  {
   "cell_type": "markdown",
   "id": "207d9028-96c3-4fd5-b83c-9a2714270004",
   "metadata": {},
   "source": [
    "#### Score of MLP - GridSearchCV"
   ]
  },
  {
   "cell_type": "code",
   "execution_count": 17,
   "id": "5420f783-cbbf-4468-882e-51653571cec4",
   "metadata": {},
   "outputs": [
    {
     "data": {
      "text/plain": [
       "0.9"
      ]
     },
     "execution_count": 17,
     "metadata": {},
     "output_type": "execute_result"
    }
   ],
   "source": [
    "mlp_g.score(X_test, y_test)"
   ]
  },
  {
   "cell_type": "code",
   "execution_count": 22,
   "id": "a206cc4a-7307-4047-8429-9ab10f950476",
   "metadata": {
    "tags": []
   },
   "outputs": [
    {
     "name": "stdout",
     "output_type": "stream",
     "text": [
      "[[3 0 0 0 0]\n",
      " [0 3 0 2 0]\n",
      " [0 0 7 0 0]\n",
      " [0 0 0 4 0]\n",
      " [0 0 0 0 1]]\n",
      "              precision    recall  f1-score   support\n",
      "\n",
      "           1       1.00      1.00      1.00         3\n",
      "           2       1.00      0.60      0.75         5\n",
      "           3       1.00      1.00      1.00         7\n",
      "           5       0.67      1.00      0.80         4\n",
      "           6       1.00      1.00      1.00         1\n",
      "\n",
      "    accuracy                           0.90        20\n",
      "   macro avg       0.93      0.92      0.91        20\n",
      "weighted avg       0.93      0.90      0.90        20\n",
      "\n"
     ]
    }
   ],
   "source": [
    "print(confusion_matrix(y_test,predict_test))\n",
    "print(classification_report(y_test,predict_test))"
   ]
  },
  {
   "cell_type": "markdown",
   "id": "ed43f034-daea-4d84-bf22-3d971b038844",
   "metadata": {},
   "source": [
    "#### Analyzing if PCA improves the model"
   ]
  },
  {
   "cell_type": "code",
   "execution_count": 23,
   "id": "68c22e57-fa4b-483d-9ddf-caefa9e8cf8f",
   "metadata": {},
   "outputs": [],
   "source": [
    "pca = PCA().fit(X_train)"
   ]
  },
  {
   "cell_type": "code",
   "execution_count": 24,
   "id": "47e3c8d2-2239-4e35-9e1b-561f5575e5c2",
   "metadata": {},
   "outputs": [
    {
     "data": {
      "image/png": "[encoded data removed]",
      "text/plain": [
       "<Figure size 432x288 with 1 Axes>"
      ]
     },
     "metadata": {
      "needs_background": "light"
     },
     "output_type": "display_data"
    }
   ],
   "source": [
    "plt.plot(np.cumsum(pca.explained_variance_ratio_))\n",
    "plt.xlabel('Number of components')\n",
    "plt.ylabel('Cumulative explained variance')\n",
    "plt.grid()"
   ]
  },
  {
   "cell_type": "code",
   "execution_count": 74,
   "id": "7319a121-331f-4fe6-af3b-c1a2d7418a13",
   "metadata": {},
   "outputs": [],
   "source": [
    "pca = PCA(n_components = 20)\n",
    "pca.fit(X_train)\n",
    "X_train_pca = pca.transform(X_train)\n",
    "X_test_pca = pca.transform(X_test)"
   ]
  },
  {
   "cell_type": "code",
   "execution_count": 75,
   "id": "69d2e882-4abc-4430-ba9e-dfad236fee97",
   "metadata": {},
   "outputs": [],
   "source": [
    "mlp_pca = MLPClassifier(random_state=1, max_iter=100, hidden_layer_sizes=(100))\n",
    "\n",
    "mlp_pca.fit(X_train_pca,y_train)\n",
    "predict_train = mlp_pca.predict(X_train_pca)\n",
    "predict_test = mlp_pca.predict(X_test_pca)"
   ]
  },
  {
   "cell_type": "markdown",
   "id": "51313ddb-de9e-4396-bbfa-418650345847",
   "metadata": {},
   "source": [
    "The PCA improves the model, only using the parameter n_components as 20. "
   ]
  },
  {
   "cell_type": "code",
   "execution_count": 76,
   "id": "959f2640-36e4-4daa-819a-7f82bda7065b",
   "metadata": {},
   "outputs": [
    {
     "data": {
      "text/plain": [
       "0.95"
      ]
     },
     "execution_count": 76,
     "metadata": {},
     "output_type": "execute_result"
    }
   ],
   "source": [
    "mlp_pca.score(X_test_pca, y_test)"
   ]
  },
  {
   "cell_type": "markdown",
   "id": "7e30466a-bb10-44ff-a39f-51e843d66fe2",
   "metadata": {},
   "source": [
    "### Conclusion"
   ]
  },
  {
   "cell_type": "markdown",
   "id": "d4ddbe89-5004-4889-934f-333daad65d14",
   "metadata": {},
   "source": [
    "This dataset is very simple. All the changes made in the parameters of MLP don't change the score. Using GridSearchCV, the best parameters of activation and solver was logistic and lbfgs respectively. Applying PCA and selecting 20 components, it improves the model from 0.9 to 0.95."
   ]
  }
 ],
 "metadata": {
  "kernelspec": {
   "display_name": "Python 3",
   "language": "python",
   "name": "python3"
  },
  "language_info": {
   "codemirror_mode": {
    "name": "ipython",
    "version": 3
   },
   "file_extension": ".py",
   "mimetype": "text/x-python",
   "name": "python",
   "nbconvert_exporter": "python",
   "pygments_lexer": "ipython3",
   "version": "3.8.8"
  }
 },
 "nbformat": 4,
 "nbformat_minor": 5
}
