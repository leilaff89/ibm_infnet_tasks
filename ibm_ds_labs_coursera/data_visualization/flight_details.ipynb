{
 "cells": [
  {
   "cell_type": "code",
   "execution_count": 6,
   "id": "37ee9c6b-17a6-4a13-bb59-b98e283b8d74",
   "metadata": {},
   "outputs": [
    {
     "name": "stdout",
     "output_type": "stream",
     "text": [
      "Requirement already satisfied: dash in c:\\users\\leila\\anaconda3\\lib\\site-packages (2.0.0)\n",
      "Requirement already satisfied: flask-compress in c:\\users\\leila\\anaconda3\\lib\\site-packages (from dash) (1.10.1)\n",
      "Requirement already satisfied: Flask>=1.0.4 in c:\\users\\leila\\anaconda3\\lib\\site-packages (from dash) (1.1.2)\n",
      "Requirement already satisfied: plotly>=5.0.0 in c:\\users\\leila\\anaconda3\\lib\\site-packages (from dash) (5.1.0)\n",
      "Requirement already satisfied: dash-html-components==2.0.0 in c:\\users\\leila\\anaconda3\\lib\\site-packages (from dash) (2.0.0)\n",
      "Requirement already satisfied: dash-table==5.0.0 in c:\\users\\leila\\anaconda3\\lib\\site-packages (from dash) (5.0.0)\n",
      "Requirement already satisfied: dash-core-components==2.0.0 in c:\\users\\leila\\anaconda3\\lib\\site-packages (from dash) (2.0.0)\n",
      "Requirement already satisfied: Werkzeug>=0.15 in c:\\users\\leila\\anaconda3\\lib\\site-packages (from Flask>=1.0.4->dash) (1.0.1)\n",
      "Requirement already satisfied: Jinja2>=2.10.1 in c:\\users\\leila\\anaconda3\\lib\\site-packages (from Flask>=1.0.4->dash) (2.11.3)\n",
      "Requirement already satisfied: itsdangerous>=0.24 in c:\\users\\leila\\anaconda3\\lib\\site-packages (from Flask>=1.0.4->dash) (1.1.0)\n",
      "Requirement already satisfied: click>=5.1 in c:\\users\\leila\\anaconda3\\lib\\site-packages (from Flask>=1.0.4->dash) (7.1.2)\n",
      "Requirement already satisfied: MarkupSafe>=0.23 in c:\\users\\leila\\anaconda3\\lib\\site-packages (from Jinja2>=2.10.1->Flask>=1.0.4->dash) (1.1.1)\n",
      "Requirement already satisfied: tenacity>=6.2.0 in c:\\users\\leila\\anaconda3\\lib\\site-packages (from plotly>=5.0.0->dash) (8.0.1)\n",
      "Requirement already satisfied: six in c:\\users\\leila\\anaconda3\\lib\\site-packages (from plotly>=5.0.0->dash) (1.15.0)\n",
      "Requirement already satisfied: brotli in c:\\users\\leila\\anaconda3\\lib\\site-packages (from flask-compress->dash) (1.0.9)\n"
     ]
    }
   ],
   "source": [
    "!pip install dash"
   ]
  },
  {
   "cell_type": "code",
   "execution_count": 5,
   "id": "472d9df3-19c9-44a4-a4bd-702b590b9577",
   "metadata": {},
   "outputs": [],
   "source": [
    "# Import required libraries\n",
    "import pandas as pd\n",
    "import dash\n",
    "from dash import html\n",
    "from dash import dcc\n",
    "from dash.dependencies import Input, Output\n",
    "import plotly.express as px"
   ]
  },
  {
   "cell_type": "code",
   "execution_count": 7,
   "id": "9ec187cb-9f97-4117-b172-d07210d9b7a7",
   "metadata": {},
   "outputs": [],
   "source": [
    "# Read the airline data into pandas dataframe\n",
    "airline_data =  pd.read_csv('https://cf-courses-data.s3.us.cloud-object-storage.appdomain.cloud/IBMDeveloperSkillsNetwork-DV0101EN-SkillsNetwork/Data%20Files/airline_data.csv', \n",
    "                            encoding = \"ISO-8859-1\",\n",
    "                            dtype={'Div1Airport': str, 'Div1TailNum': str, \n",
    "                                   'Div2Airport': str, 'Div2TailNum': str})"
   ]
  },
  {
   "cell_type": "code",
   "execution_count": 8,
   "id": "eee94b47-3d86-4a46-9d15-11f89e9aae0b",
   "metadata": {},
   "outputs": [],
   "source": [
    "# Create a dash application\n",
    "app = dash.Dash(__name__)\n",
    "\n",
    "# Build dash app layout\n",
    "app.layout = html.Div(children=[ html.H1('Flight Delay Time Statistics', \n",
    "                                style={'textAlign': 'center', 'color': '#503D36',\n",
    "                                'font-size': 30}),\n",
    "                                html.Div([\"Input Year: \", dcc.Input(id='input-year', value='2010', \n",
    "                                type='number', style={'height':'35px', 'font-size': 30}),], \n",
    "                                style={'font-size': 30}),\n",
    "                                html.Br(),\n",
    "                                html.Br(), \n",
    "                                # Segment 1\n",
    "                                html.Div([\n",
    "                                        html.Div(dcc.Graph(id='carrier-plot')),\n",
    "                                        html.Div(dcc.Graph(id='weather-plot'))\n",
    "                                ], style={'display': 'flex'}),\n",
    "                                # Segment 2\n",
    "                                html.Div([\n",
    "                                        html.Div(dcc.Graph(id='nas-plot')),\n",
    "                                        html.Div(dcc.Graph(id='security-plot'))\n",
    "                                ], style={'display': 'flex'}),\n",
    "                                # Segment 3\n",
    "                                html.Div(dcc.Graph(id='late-plot'), style={'width':'65%'})\n",
    "                                ])"
   ]
  },
  {
   "cell_type": "code",
   "execution_count": 9,
   "id": "38073b5f-90d8-4fb4-adef-b900497c8b37",
   "metadata": {},
   "outputs": [],
   "source": [
    "\"\"\" Compute_info function description\n",
    "\n",
    "This function takes in airline data and selected year as an input and performs computation for creating charts and plots.\n",
    "\n",
    "Arguments:\n",
    "    airline_data: Input airline data.\n",
    "    entered_year: Input year for which computation needs to be performed.\n",
    "    \n",
    "Returns:\n",
    "    Computed average dataframes for carrier delay, weather delay, NAS delay, security delay, and late aircraft delay.\n",
    "\n",
    "\"\"\"\n",
    "def compute_info(airline_data, entered_year):\n",
    "    # Select data\n",
    "    df =  airline_data[airline_data['Year']==int(entered_year)]\n",
    "    # Compute delay averages\n",
    "    avg_car = df.groupby(['Month','Reporting_Airline'])['CarrierDelay'].mean().reset_index()\n",
    "    avg_weather = df.groupby(['Month','Reporting_Airline'])['WeatherDelay'].mean().reset_index()\n",
    "    avg_NAS = df.groupby(['Month','Reporting_Airline'])['NASDelay'].mean().reset_index()\n",
    "    avg_sec = df.groupby(['Month','Reporting_Airline'])['SecurityDelay'].mean().reset_index()\n",
    "    avg_late = df.groupby(['Month','Reporting_Airline'])['LateAircraftDelay'].mean().reset_index()\n",
    "    return avg_car, avg_weather, avg_NAS, avg_sec, avg_late"
   ]
  },
  {
   "cell_type": "code",
   "execution_count": 10,
   "id": "cc595475-97df-4a6e-a317-1b628c1a37e1",
   "metadata": {},
   "outputs": [],
   "source": [
    "\"\"\"Callback Function\n",
    "\n",
    "Function that returns fugures using the provided input year.\n",
    "\n",
    "Arguments:\n",
    "\n",
    "    entered_year: Input year provided by the user.\n",
    "    \n",
    "Returns:\n",
    "\n",
    "    List of figures computed using the provided helper function `compute_info`.\n",
    "\"\"\"\n",
    "# Callback decorator\n",
    "@app.callback( [\n",
    "               Output(component_id='carrier-plot', component_property='figure'),\n",
    "               Output(component_id='weather-plot', component_property='figure'),\n",
    "               Output(component_id='nas-plot', component_property='figure'),\n",
    "               Output(component_id='security-plot', component_property='figure'),\n",
    "               Output(component_id='late-plot', component_property='figure')\n",
    "               ],\n",
    "               Input(component_id='input-year', component_property='value'))\n",
    "# Computation to callback function and return graph\n",
    "def get_graph(entered_year):\n",
    "    \n",
    "    # Compute required information for creating graph from the data\n",
    "    avg_car, avg_weather, avg_NAS, avg_sec, avg_late = compute_info(airline_data, entered_year)\n",
    "            \n",
    "    # Line plot for carrier delay\n",
    "    carrier_fig = px.line(avg_car, x='Month', y='CarrierDelay', color='Reporting_Airline', title='Average carrrier delay time (minutes) by airline')\n",
    "    # Line plot for weather delay\n",
    "    weather_fig = px.line(avg_weather, x='Month', y='WeatherDelay', color='Reporting_Airline', title='Average weather delay time (minutes) by airline')\n",
    "    # Line plot for nas delay\n",
    "    nas_fig = px.line(avg_NAS, x='Month', y='NASDelay', color='Reporting_Airline', title='Average NAS delay time (minutes) by airline')\n",
    "    # Line plot for security delay\n",
    "    sec_fig = px.line(avg_sec, x='Month', y='SecurityDelay', color='Reporting_Airline', title='Average security delay time (minutes) by airline')\n",
    "    # Line plot for late aircraft delay\n",
    "    late_fig = px.line(avg_late, x='Month', y='LateAircraftDelay', color='Reporting_Airline', title='Average late aircraft delay time (minutes) by airline')\n",
    "            \n",
    "    return[carrier_fig, weather_fig, nas_fig, sec_fig, late_fig]\n"
   ]
  },
  {
   "cell_type": "code",
   "execution_count": null,
   "id": "af7d3ff0-7af2-4d6d-8717-248820132a96",
   "metadata": {},
   "outputs": [],
   "source": [
    "# Run the app\n",
    "if __name__ == '__main__':\n",
    "    app.run_server()"
   ]
  }
 ],
 "metadata": {
  "kernelspec": {
   "display_name": "Python 3",
   "language": "python",
   "name": "python3"
  },
  "language_info": {
   "codemirror_mode": {
    "name": "ipython",
    "version": 3
   },
   "file_extension": ".py",
   "mimetype": "text/x-python",
   "name": "python",
   "nbconvert_exporter": "python",
   "pygments_lexer": "ipython3",
   "version": "3.8.8"
  }
 },
 "nbformat": 4,
 "nbformat_minor": 5
}
